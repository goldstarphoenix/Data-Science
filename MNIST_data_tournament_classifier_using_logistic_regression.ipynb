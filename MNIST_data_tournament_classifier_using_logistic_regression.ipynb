{
  "nbformat": 4,
  "nbformat_minor": 0,
  "metadata": {
    "colab": {
      "name": "MNIST data tournament classifier using logistic regression",
      "version": "0.3.2",
      "provenance": [],
      "collapsed_sections": [],
      "include_colab_link": true
    },
    "kernelspec": {
      "name": "python3",
      "display_name": "Python 3"
    }
  },
  "cells": [
    {
      "cell_type": "markdown",
      "metadata": {
        "id": "view-in-github",
        "colab_type": "text"
      },
      "source": [
        "<a href=\"https://colab.research.google.com/github/goldstarphoenix/Data-Science/blob/master/MNIST_data_tournament_classifier_using_logistic_regression.ipynb\" target=\"_parent\"><img src=\"https://colab.research.google.com/assets/colab-badge.svg\" alt=\"Open In Colab\"/></a>"
      ]
    },
    {
      "cell_type": "code",
      "metadata": {
        "id": "JXxehEpNAdN_",
        "colab_type": "code",
        "outputId": "4f9af149-e144-4500-e1db-1005d346a645",
        "colab": {
          "resources": {
            "http://localhost:8080/nbextensions/google.colab/files.js": {
              "data": "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",
              "ok": true,
              "headers": [
                [
                  "content-type",
                  "application/javascript"
                ]
              ],
              "status": 200,
              "status_text": ""
            }
          },
          "base_uri": "https://localhost:8080/",
          "height": 165
        }
      },
      "source": [
        "#declaring libraries \n",
        "\n",
        "from sklearn.preprocessing import StandardScaler\n",
        "\n",
        "from sklearn.model_selection import train_test_split\n",
        "from sklearn.metrics import confusion_matrix\n",
        "from sklearn.pipeline import Pipeline\n",
        "import pandas as pd\n",
        "import numpy as np\n",
        "import matplotlib as plt\n",
        "\n",
        "# mount drive\n",
        "#don't forget to type as gdrive\n",
        "\n",
        "from google.colab import drive\n",
        "drive.mount('/content/gdrive')\n",
        "#importing files from kaggle using the .json file from My Account\n",
        "\n",
        "from google.colab import files\n",
        "files.upload()  #this will prompt you to upload the kaggle.json\n",
        "!pip install -q kaggle\n",
        "!mkdir -p ~/.kaggle\n",
        "!cp kaggle.json ~/.kaggle/\n",
        "!ls ~/.kaggle\n",
        "!chmod 600 /root/.kaggle/kaggle.json  # set permission\n",
        "# copying the api as it is from kaggle competition into \"! <api> -p<type the path from gdrive>\"\n",
        "\n",
        "!kaggle competitions download -c digit-recognizer -p \"/content/gdrive/My Drive/Data Science\"\n"
      ],
      "execution_count": 6,
      "outputs": [
        {
          "output_type": "stream",
          "text": [
            "Drive already mounted at /content/gdrive; to attempt to forcibly remount, call drive.mount(\"/content/gdrive\", force_remount=True).\n"
          ],
          "name": "stdout"
        },
        {
          "output_type": "display_data",
          "data": {
            "text/html": [
              "\n",
              "     <input type=\"file\" id=\"files-8c3e051f-fd3d-4612-aae8-bffe4a156814\" name=\"files[]\" multiple disabled />\n",
              "     <output id=\"result-8c3e051f-fd3d-4612-aae8-bffe4a156814\">\n",
              "      Upload widget is only available when the cell has been executed in the\n",
              "      current browser session. Please rerun this cell to enable.\n",
              "      </output>\n",
              "      <script src=\"/nbextensions/google.colab/files.js\"></script> "
            ],
            "text/plain": [
              "<IPython.core.display.HTML object>"
            ]
          },
          "metadata": {
            "tags": []
          }
        },
        {
          "output_type": "stream",
          "text": [
            "Saving kaggle.json to kaggle (1).json\n",
            "kaggle.json\n",
            "train.csv: Skipping, found more recently modified local copy (use --force to force download)\n",
            "test.csv: Skipping, found more recently modified local copy (use --force to force download)\n",
            "sample_submission.csv: Skipping, found more recently modified local copy (use --force to force download)\n"
          ],
          "name": "stdout"
        }
      ]
    },
    {
      "cell_type": "code",
      "metadata": {
        "id": "qaKFJIvoJfh_",
        "colab_type": "code",
        "outputId": "332cc8fb-ede8-4d78-985c-a324f2e7ce0c",
        "colab": {
          "base_uri": "https://localhost:8080/",
          "height": 419
        }
      },
      "source": [
        "#use pandas to read the csv \n",
        "#cell for classifying '1s' and 'not 1s'\n",
        "\n",
        "train_data=pd.read_csv(r'/content/gdrive/My Drive/Data Science/train.csv')\n",
        "\n",
        "#print(\"train:\",train_data.shape) # train data shape\n",
        "\n",
        "scale=StandardScaler() #use feature scaling \n",
        "\n",
        "\n",
        "train_label=train_data.iloc[:,0] # choosing all the rows and only the first column\n",
        "\n",
        "train_data=train_data.iloc[:,1:] #choosing all the rows and leaving out the first column alone\n",
        "\n",
        "#train_data,test_data,train_label,test_label=train_test_split(train_data, train_label, test_size=0.2, random_state=0) # train_test_split \n",
        "train_data,test_data,train_label,test_label=train_test_split(train_data, train_label, test_size=1/7.0, random_state=25) # works best for test_size=0.4\n",
        "#df1=pd.DataFrame(data=test_label) #converting list to dataframe\n",
        "\n",
        "score=np.empty(10)# to get an error free item assignment in numpy array\n",
        "\n",
        "#to classify all 0s and not 0s\n",
        "train_0=(train_label==0) # true for all 0s and false for the rest\n",
        "test_0=(test_label==0) \n",
        "\n",
        "from sklearn.linear_model import LogisticRegression\n",
        "log_reg = LogisticRegression(solver='lbfgs') # lbfgs is faster in convergence \n",
        "log_reg.fit(train_data, train_0)\n",
        "prediction=log_reg.predict(test_data)\n",
        "from sklearn.metrics import accuracy_score\n",
        "print(accuracy_score(test_0,prediction))\n",
        "score_0 =accuracy_score(test_0,prediction)\n",
        "score[0]=score_0\n",
        "#print(score*100)\n",
        "\n",
        "#to classify all 1s and not 1s\n",
        "train_1=(train_label==1) # true for all 1s and false for the rest\n",
        "test_1=(test_label==1) \n",
        "\n",
        "from sklearn.linear_model import LogisticRegression\n",
        "log_reg = LogisticRegression(solver='lbfgs') # lbfgs is faster in convergence \n",
        "log_reg.fit(train_data, train_1)\n",
        "prediction=log_reg.predict(test_data)\n",
        "from sklearn.metrics import accuracy_score\n",
        "\n",
        "score[1] =accuracy_score(test_1,prediction)\n",
        "#print(score_1*100)\n",
        "\n",
        "#to classify all 2s and not 2s\n",
        "train_2=(train_label==2) # true for all 2s and false for the rest\n",
        "test_2=(test_label==2) \n",
        "\n",
        "from sklearn.linear_model import LogisticRegression\n",
        "log_reg = LogisticRegression(solver='lbfgs') # lbfgs is faster in convergence \n",
        "log_reg.fit(train_data, train_2)\n",
        "prediction=log_reg.predict(test_data)\n",
        "from sklearn.metrics import accuracy_score\n",
        "\n",
        "score[2] =accuracy_score(test_2,prediction)\n",
        "#print(score_2*100)\n",
        "\n",
        "#to classify all 3s and not 3s\n",
        "train_3=(train_label==3) # true for all 3s and false for the rest\n",
        "test_3=(test_label==3) \n",
        "\n",
        "from sklearn.linear_model import LogisticRegression\n",
        "log_reg = LogisticRegression(solver='lbfgs') # lbfgs is faster in convergence \n",
        "log_reg.fit(train_data, train_3)\n",
        "prediction=log_reg.predict(test_data)\n",
        "from sklearn.metrics import accuracy_score\n",
        "\n",
        "score[3] =accuracy_score(test_1,prediction)\n",
        "#print(score_3*100)\n",
        "\n",
        "#to classify all 4s and not 4s\n",
        "train_4=(train_label==4) # true for all 4s and false for the rest\n",
        "test_4=(test_label==4) \n",
        "\n",
        "from sklearn.linear_model import LogisticRegression\n",
        "log_reg = LogisticRegression(solver='lbfgs') # lbfgs is faster in convergence \n",
        "log_reg.fit(train_data, train_4)\n",
        "prediction=log_reg.predict(test_data)\n",
        "from sklearn.metrics import accuracy_score\n",
        "\n",
        "score[4] =accuracy_score(test_4,prediction)\n",
        "#print(score_4*100)\n",
        "\n",
        "#to classify all 5s and not 5s\n",
        "train_5=(train_label==5) # true for all 5s and false for the rest\n",
        "test_5=(test_label==5) \n",
        "\n",
        "from sklearn.linear_model import LogisticRegression\n",
        "log_reg = LogisticRegression(solver='lbfgs') # lbfgs is faster in convergence \n",
        "log_reg.fit(train_data, train_5)\n",
        "prediction=log_reg.predict(test_data)\n",
        "from sklearn.metrics import accuracy_score\n",
        "\n",
        "score[5] =accuracy_score(test_5,prediction)\n",
        "#print(score_5*100)\n",
        "\n",
        "#to classify all 6s and not 6s\n",
        "train_6=(train_label==6) # true for all 6s and false for the rest\n",
        "test_6=(test_label==6) \n",
        "\n",
        "from sklearn.linear_model import LogisticRegression\n",
        "log_reg = LogisticRegression(solver='lbfgs') # lbfgs is faster in convergence \n",
        "log_reg.fit(train_data, train_6)\n",
        "prediction=log_reg.predict(test_data)\n",
        "from sklearn.metrics import accuracy_score\n",
        "\n",
        "score[6] =accuracy_score(test_6,prediction)\n",
        "#print(score_6*100)\n",
        "\n",
        "#to classify all 7s and not 7s\n",
        "train_7=(train_label==7) # true for all 7s and false for the rest\n",
        "test_7=(test_label==7) \n",
        "\n",
        "from sklearn.linear_model import LogisticRegression\n",
        "log_reg = LogisticRegression(solver='lbfgs') # lbfgs is faster in convergence \n",
        "log_reg.fit(train_data, train_7)\n",
        "prediction=log_reg.predict(test_data)\n",
        "from sklearn.metrics import accuracy_score\n",
        "\n",
        "score[7] =accuracy_score(test_7,prediction)\n",
        "#print(score_7*100)\n",
        "\n",
        "#to classify all 8s and not 8s\n",
        "train_8=(train_label==8) # true for all 8s and false for the rest\n",
        "test_8=(test_label==8) \n",
        "\n",
        "from sklearn.linear_model import LogisticRegression\n",
        "log_reg = LogisticRegression(solver='lbfgs') # lbfgs is faster in convergence \n",
        "log_reg.fit(train_data, train_8)\n",
        "prediction=log_reg.predict(test_data)\n",
        "from sklearn.metrics import accuracy_score\n",
        "\n",
        "score[8] =accuracy_score(test_8,prediction)\n",
        "#print(score_8*100)\n",
        "\n",
        "#to classify all 9s and not 9s\n",
        "train_9=(train_label==9) # true for all 9s and false for the rest\n",
        "test_9=(test_label==9) \n",
        "\n",
        "from sklearn.linear_model import LogisticRegression\n",
        "log_reg = LogisticRegression(solver='lbfgs') # lbfgs is faster in convergence \n",
        "log_reg.fit(train_data, train_9)\n",
        "prediction=log_reg.predict(test_data)\n",
        "from sklearn.metrics import accuracy_score\n",
        "\n",
        "score[9] =accuracy_score(test_9,prediction)\n",
        "#print(score_9*100)"
      ],
      "execution_count": 12,
      "outputs": [
        {
          "output_type": "stream",
          "text": [
            "/usr/local/lib/python3.6/dist-packages/sklearn/linear_model/logistic.py:947: ConvergenceWarning: lbfgs failed to converge. Increase the number of iterations.\n",
            "  \"of iterations.\", ConvergenceWarning)\n"
          ],
          "name": "stderr"
        },
        {
          "output_type": "stream",
          "text": [
            "0.9881666666666666\n"
          ],
          "name": "stdout"
        },
        {
          "output_type": "stream",
          "text": [
            "/usr/local/lib/python3.6/dist-packages/sklearn/linear_model/logistic.py:947: ConvergenceWarning: lbfgs failed to converge. Increase the number of iterations.\n",
            "  \"of iterations.\", ConvergenceWarning)\n",
            "/usr/local/lib/python3.6/dist-packages/sklearn/linear_model/logistic.py:947: ConvergenceWarning: lbfgs failed to converge. Increase the number of iterations.\n",
            "  \"of iterations.\", ConvergenceWarning)\n",
            "/usr/local/lib/python3.6/dist-packages/sklearn/linear_model/logistic.py:947: ConvergenceWarning: lbfgs failed to converge. Increase the number of iterations.\n",
            "  \"of iterations.\", ConvergenceWarning)\n",
            "/usr/local/lib/python3.6/dist-packages/sklearn/linear_model/logistic.py:947: ConvergenceWarning: lbfgs failed to converge. Increase the number of iterations.\n",
            "  \"of iterations.\", ConvergenceWarning)\n",
            "/usr/local/lib/python3.6/dist-packages/sklearn/linear_model/logistic.py:947: ConvergenceWarning: lbfgs failed to converge. Increase the number of iterations.\n",
            "  \"of iterations.\", ConvergenceWarning)\n",
            "/usr/local/lib/python3.6/dist-packages/sklearn/linear_model/logistic.py:947: ConvergenceWarning: lbfgs failed to converge. Increase the number of iterations.\n",
            "  \"of iterations.\", ConvergenceWarning)\n",
            "/usr/local/lib/python3.6/dist-packages/sklearn/linear_model/logistic.py:947: ConvergenceWarning: lbfgs failed to converge. Increase the number of iterations.\n",
            "  \"of iterations.\", ConvergenceWarning)\n",
            "/usr/local/lib/python3.6/dist-packages/sklearn/linear_model/logistic.py:947: ConvergenceWarning: lbfgs failed to converge. Increase the number of iterations.\n",
            "  \"of iterations.\", ConvergenceWarning)\n",
            "/usr/local/lib/python3.6/dist-packages/sklearn/linear_model/logistic.py:947: ConvergenceWarning: lbfgs failed to converge. Increase the number of iterations.\n",
            "  \"of iterations.\", ConvergenceWarning)\n"
          ],
          "name": "stderr"
        }
      ]
    },
    {
      "cell_type": "code",
      "metadata": {
        "id": "HXOUmWiYcHxC",
        "colab_type": "code",
        "colab": {
          "base_uri": "https://localhost:8080/",
          "height": 565
        },
        "outputId": "18d22170-f3e6-4c92-82ed-31f26d629d59"
      },
      "source": [
        "a=list()\n",
        "for i in range(0,9):\n",
        "  print(\"score of getting \",i,\"=\",score[i])\n",
        "  print(\"score of not getting \",i,\"=\",(1-score[i]))\n",
        "  a.append(score[i])\n",
        "  a.append(1-score[i])\n",
        "  print (a)\n",
        "print(\"maximum=\",max(a))\n",
        "for i in range(0,9):\n",
        "  if score[i]==max(a):\n",
        "    print(i,\"is the index of the actual\")\n",
        "  elif (1-score[i])==max(a):\n",
        "    print(i,\"is the index of complement\")"
      ],
      "execution_count": 17,
      "outputs": [
        {
          "output_type": "stream",
          "text": [
            "score of getting  0 = 0.9881666666666666\n",
            "score of not getting  0 = 0.011833333333333362\n",
            "[0.9881666666666666, 0.011833333333333362]\n",
            "score of getting  1 = 0.9906666666666667\n",
            "score of not getting  1 = 0.009333333333333305\n",
            "[0.9881666666666666, 0.011833333333333362, 0.9906666666666667, 0.009333333333333305]\n",
            "score of getting  2 = 0.9766666666666667\n",
            "score of not getting  2 = 0.023333333333333317\n",
            "[0.9881666666666666, 0.011833333333333362, 0.9906666666666667, 0.009333333333333305, 0.9766666666666667, 0.023333333333333317]\n",
            "score of getting  3 = 0.7896666666666666\n",
            "score of not getting  3 = 0.21033333333333337\n",
            "[0.9881666666666666, 0.011833333333333362, 0.9906666666666667, 0.009333333333333305, 0.9766666666666667, 0.023333333333333317, 0.7896666666666666, 0.21033333333333337]\n",
            "score of getting  4 = 0.9806666666666667\n",
            "score of not getting  4 = 0.019333333333333313\n",
            "[0.9881666666666666, 0.011833333333333362, 0.9906666666666667, 0.009333333333333305, 0.9766666666666667, 0.023333333333333317, 0.7896666666666666, 0.21033333333333337, 0.9806666666666667, 0.019333333333333313]\n",
            "score of getting  5 = 0.9751666666666666\n",
            "score of not getting  5 = 0.024833333333333374\n",
            "[0.9881666666666666, 0.011833333333333362, 0.9906666666666667, 0.009333333333333305, 0.9766666666666667, 0.023333333333333317, 0.7896666666666666, 0.21033333333333337, 0.9806666666666667, 0.019333333333333313, 0.9751666666666666, 0.024833333333333374]\n",
            "score of getting  6 = 0.9868333333333333\n",
            "score of not getting  6 = 0.01316666666666666\n",
            "[0.9881666666666666, 0.011833333333333362, 0.9906666666666667, 0.009333333333333305, 0.9766666666666667, 0.023333333333333317, 0.7896666666666666, 0.21033333333333337, 0.9806666666666667, 0.019333333333333313, 0.9751666666666666, 0.024833333333333374, 0.9868333333333333, 0.01316666666666666]\n",
            "score of getting  7 = 0.9805\n",
            "score of not getting  7 = 0.019499999999999962\n",
            "[0.9881666666666666, 0.011833333333333362, 0.9906666666666667, 0.009333333333333305, 0.9766666666666667, 0.023333333333333317, 0.7896666666666666, 0.21033333333333337, 0.9806666666666667, 0.019333333333333313, 0.9751666666666666, 0.024833333333333374, 0.9868333333333333, 0.01316666666666666, 0.9805, 0.019499999999999962]\n",
            "score of getting  8 = 0.9501666666666667\n",
            "score of not getting  8 = 0.049833333333333285\n",
            "[0.9881666666666666, 0.011833333333333362, 0.9906666666666667, 0.009333333333333305, 0.9766666666666667, 0.023333333333333317, 0.7896666666666666, 0.21033333333333337, 0.9806666666666667, 0.019333333333333313, 0.9751666666666666, 0.024833333333333374, 0.9868333333333333, 0.01316666666666666, 0.9805, 0.019499999999999962, 0.9501666666666667, 0.049833333333333285]\n",
            "maximum= 0.9906666666666667\n",
            "1 is the index of the actual\n"
          ],
          "name": "stdout"
        }
      ]
    }
  ]
}