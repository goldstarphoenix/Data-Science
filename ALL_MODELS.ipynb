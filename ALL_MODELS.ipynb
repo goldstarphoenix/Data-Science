{
  "nbformat": 4,
  "nbformat_minor": 0,
  "metadata": {
    "colab": {
      "name": "ALL MODELS",
      "version": "0.3.2",
      "provenance": [],
      "collapsed_sections": [
        "bR5hgnIL4GKR",
        "UDa4xreG4UUV",
        "-ZjCGqIn4aVC",
        "q25oWzi6Jqk1",
        "O7WgfXKqmPDb",
        "zrf8rFRb43jn",
        "pUKMeJeFTEeB",
        "d66AGX7qTKVm",
        "VcXZjxEQTNen",
        "joQI5m1BVwq4",
        "BM1AOgSIt0Zr"
      ],
      "toc_visible": true,
      "include_colab_link": true
    },
    "kernelspec": {
      "name": "python3",
      "display_name": "Python 3"
    },
    "accelerator": "GPU"
  },
  "cells": [
    {
      "cell_type": "markdown",
      "metadata": {
        "id": "view-in-github",
        "colab_type": "text"
      },
      "source": [
        "<a href=\"https://colab.research.google.com/github/kavya2299/Machine-Learning/blob/master/ALL_MODELS.ipynb\" target=\"_parent\"><img src=\"https://colab.research.google.com/assets/colab-badge.svg\" alt=\"Open In Colab\"/></a>"
      ]
    },
    {
      "cell_type": "markdown",
      "metadata": {
        "id": "691e2FYPGkGh",
        "colab_type": "text"
      },
      "source": [
        "##Make all the imports and load the datasets"
      ]
    },
    {
      "cell_type": "code",
      "metadata": {
        "id": "cxcNoJjOEywL",
        "colab_type": "code",
        "outputId": "8650dc76-bb67-4ce6-b4dc-cc84b66a1eac",
        "colab": {
          "base_uri": "https://localhost:8080/",
          "height": 128
        }
      },
      "source": [
        "import tensorflow \n",
        "from tensorflow import keras\n",
        "from keras.datasets import mnist\n",
        "import numpy as np\n",
        "import matplotlib.pyplot as plt\n",
        "import pandas as pd\n",
        "from sklearn.metrics import confusion_matrix\n",
        "from sklearn.preprocessing import StandardScaler\n",
        "from sklearn.metrics import accuracy_score \n",
        "from sklearn.externals import joblib\n",
        "import os\n",
        "from sklearn.linear_model import LogisticRegression\n",
        "from os import sys\n",
        "from sklearn.svm import SVC\n",
        "from sklearn import tree\n",
        "from keras import models\n",
        "from keras import layers\n",
        "from keras import regularizers\n",
        "from keras.utils import to_categorical\n",
        "from keras.models import load_model\n",
        "from keras.models import model_from_json\n",
        "import statistics\n",
        "from statistics import mean\n",
        "(train_images,train_labels),(test_images,test_labels) = mnist.load_data()\n"
      ],
      "execution_count": 0,
      "outputs": [
        {
          "output_type": "stream",
          "text": [
            "Using TensorFlow backend.\n",
            "/usr/local/lib/python3.6/dist-packages/sklearn/externals/joblib/__init__.py:15: DeprecationWarning: sklearn.externals.joblib is deprecated in 0.21 and will be removed in 0.23. Please import this functionality directly from joblib, which can be installed with: pip install joblib. If this warning is raised when loading pickled models, you may need to re-serialize those models with scikit-learn 0.21+.\n",
            "  warnings.warn(msg, category=DeprecationWarning)\n"
          ],
          "name": "stderr"
        },
        {
          "output_type": "stream",
          "text": [
            "Downloading data from https://s3.amazonaws.com/img-datasets/mnist.npz\n",
            "11493376/11490434 [==============================] - 0s 0us/step\n"
          ],
          "name": "stdout"
        }
      ]
    },
    {
      "cell_type": "markdown",
      "metadata": {
        "id": "_2qkImlmIUwu",
        "colab_type": "text"
      },
      "source": [
        "##Mount the drive"
      ]
    },
    {
      "cell_type": "code",
      "metadata": {
        "id": "D8npTQ31Hyy5",
        "colab_type": "code",
        "outputId": "54ad0523-9566-46ae-e3b4-b65fb99eb5da",
        "colab": {
          "base_uri": "https://localhost:8080/",
          "height": 128
        }
      },
      "source": [
        "from google.colab import drive\n",
        "drive.mount('/content/gdrive')"
      ],
      "execution_count": 0,
      "outputs": [
        {
          "output_type": "stream",
          "text": [
            "Go to this URL in a browser: https://accounts.google.com/o/oauth2/auth?client_id=947318989803-6bn6qk8qdgf4n4g3pfee6491hc0brc4i.apps.googleusercontent.com&redirect_uri=urn%3Aietf%3Awg%3Aoauth%3A2.0%3Aoob&scope=email%20https%3A%2F%2Fwww.googleapis.com%2Fauth%2Fdocs.test%20https%3A%2F%2Fwww.googleapis.com%2Fauth%2Fdrive%20https%3A%2F%2Fwww.googleapis.com%2Fauth%2Fdrive.photos.readonly%20https%3A%2F%2Fwww.googleapis.com%2Fauth%2Fpeopleapi.readonly&response_type=code\n",
            "\n",
            "Enter your authorization code:\n",
            "··········\n",
            "Mounted at /content/gdrive\n"
          ],
          "name": "stdout"
        }
      ]
    },
    {
      "cell_type": "markdown",
      "metadata": {
        "id": "bR5hgnIL4GKR",
        "colab_type": "text"
      },
      "source": [
        "##Data for all models"
      ]
    },
    {
      "cell_type": "markdown",
      "metadata": {
        "id": "UDa4xreG4UUV",
        "colab_type": "text"
      },
      "source": [
        "###Hierarchical data"
      ]
    },
    {
      "cell_type": "code",
      "metadata": {
        "id": "-8POeEqoLjEN",
        "colab_type": "code",
        "colab": {}
      },
      "source": [
        "train_h = np.empty(60000*7)\n",
        "train_h = train_h.reshape(7,60000)\n",
        "\n",
        "#def symmetry():\n",
        "for i in range(60000):\n",
        "  if train_labels[i]==0 or train_labels[i]==1 or train_labels[i]==3 or train_labels[i]==8:\n",
        "    train_h[0][i]=1\n",
        "  else:\n",
        "    train_h[0][i]=0\n",
        "  if(train_h[0][i]==1):\n",
        "    if train_labels[i]==0 or train_labels[i]==1:\n",
        "      train_h[1][i]=1\n",
        "    else:\n",
        "      train_h[1][i]=0\n",
        "  else:\n",
        "    train_h[1][i]=2\n",
        "  if(train_h[1][i]==1):\n",
        "      if train_labels[i]==1:\n",
        "        train_h[2][i]=1\n",
        "      else:\n",
        "        train_h[2][i]=0\n",
        "  else:\n",
        "    train_h[2][i]=2\n",
        "  if(train_h[1][i]==0):\n",
        "      if train_labels[i]==3:\n",
        "        train_h[3][i]=1\n",
        "      else:\n",
        "        train_h[3][i]=0\n",
        "  else:\n",
        "    train_h[3][i]=2      \n",
        "  if(train_h[0][i]==0):\n",
        "    if train_labels[i]==2 or train_labels[i]==7 or train_labels[i]==4:\n",
        "      train_h[4][i]=1\n",
        "    else:\n",
        "      train_h[4][i]=0\n",
        "  else:\n",
        "    train_h[4][i]=2\n",
        "  if(train_h[4][i]==1):\n",
        "      if train_labels[i]==2:\n",
        "        train_h[5][i]=0\n",
        "      elif train_labels[i]==4:\n",
        "        train_h[5][i]=1\n",
        "      else:\n",
        "        train_h[5][i]=2\n",
        "  else:\n",
        "    train_h[5][i]=3\n",
        "  if(train_h[4][i]==0):\n",
        "      if train_labels[i]==5:\n",
        "        train_h[6][i]=0\n",
        "      elif train_labels[i]==6:\n",
        "        train_h[6][i]=1\n",
        "      else:\n",
        "        train_h[6][i]=2     \n",
        "  else:\n",
        "    train_h[6][i]=3\n",
        "\n",
        "test_h = np.empty(10000*7)\n",
        "test_h = test_h.reshape(7,10000)\n",
        "\n",
        "#def symmetry():\n",
        "for i in range(10000):\n",
        "  if test_labels[i]==0 or test_labels[i]==1 or test_labels[i]==3 or test_labels[i]==8:\n",
        "    test_h[0][i]=1\n",
        "  else:\n",
        "    test_h[0][i]=0\n",
        "  if(test_h[0][i]==1):\n",
        "    if test_labels[i]==0 or test_labels[i]==1:\n",
        "      test_h[1][i]=1\n",
        "    else:\n",
        "      test_h[1][i]=0\n",
        "  else:\n",
        "    test_h[1][i]=2\n",
        "  if(test_h[1][i]==1):\n",
        "      if test_labels[i]==1:\n",
        "        test_h[2][i]=1\n",
        "      else:\n",
        "        test_h[2][i]=0\n",
        "  else:\n",
        "    test_h[2][i]=2\n",
        "  if(test_h[1][i]==0):\n",
        "      if test_labels[i]==3:\n",
        "        test_h[3][i]=1\n",
        "      else:\n",
        "        test_h[3][i]=0\n",
        "  else:\n",
        "    test_h[3][i]=2      \n",
        "  if(test_h[0][i]==0):\n",
        "    if test_labels[i]==2 or test_labels[i]==7 or test_labels[i]==4:\n",
        "      test_h[4][i]=1\n",
        "    else:\n",
        "      test_h[4][i]=0\n",
        "  else:\n",
        "    test_h[4][i]=2\n",
        "  if(test_h[4][i]==1):\n",
        "      if test_labels[i]==2:\n",
        "        test_h[5][i]=0\n",
        "      elif test_labels[i]==4:\n",
        "        test_h[5][i]=1\n",
        "      else:\n",
        "        test_h[5][i]=2\n",
        "  else:\n",
        "    test_h[5][i]=3\n",
        "  if(test_h[4][i]==0):\n",
        "      if test_labels[i]==5:\n",
        "        test_h[6][i]=0\n",
        "      elif test_labels[i]==6:\n",
        "        test_h[6][i]=1\n",
        "      else:\n",
        "        test_h[6][i]=2     \n",
        "  else:\n",
        "    test_h[6][i]=3\n",
        "\n",
        "\n",
        "  "
      ],
      "execution_count": 0,
      "outputs": []
    },
    {
      "cell_type": "markdown",
      "metadata": {
        "id": "-ZjCGqIn4aVC",
        "colab_type": "text"
      },
      "source": [
        "###Tournament data"
      ]
    },
    {
      "cell_type": "code",
      "metadata": {
        "id": "_uoFJAswzn6y",
        "colab_type": "code",
        "colab": {}
      },
      "source": [
        "train_t=np.empty(60000*10)\n",
        "train_t=train_t.reshape(10,60000)\n",
        "\n",
        "for k in range(10):\n",
        "  for i in range(60000):\n",
        "    if train_labels[i]==k:\n",
        "      train_t[k][i]=1\n",
        "    else:\n",
        "      train_t[k][i]=0\n",
        "\n",
        "test_t=np.empty(10000*10)\n",
        "test_t=test_t.reshape(10,10000)\n",
        "\n",
        "for k in range(10):\n",
        "  for i in range(10000):\n",
        "    if test_labels[i]==k:\n",
        "      test_t[k][i]=1\n",
        "    else:\n",
        "      test_t[k][i]=0      \n",
        "      "
      ],
      "execution_count": 0,
      "outputs": []
    },
    {
      "cell_type": "markdown",
      "metadata": {
        "id": "4YOWAmpDIxF-",
        "colab_type": "text"
      },
      "source": [
        "#Architectures and models"
      ]
    },
    {
      "cell_type": "markdown",
      "metadata": {
        "id": "q25oWzi6Jqk1",
        "colab_type": "text"
      },
      "source": [
        "##Reshape the arrays (preprocessing)"
      ]
    },
    {
      "cell_type": "code",
      "metadata": {
        "id": "8llkRO9eJuJk",
        "colab_type": "code",
        "colab": {}
      },
      "source": [
        "scale = StandardScaler()\n",
        "\n",
        "train_images=train_images.reshape(60000,784)\n",
        "train_images=scale.fit_transform(train_images) "
      ],
      "execution_count": 0,
      "outputs": []
    },
    {
      "cell_type": "markdown",
      "metadata": {
        "id": "O7WgfXKqmPDb",
        "colab_type": "text"
      },
      "source": [
        "##Logistic Regression"
      ]
    },
    {
      "cell_type": "markdown",
      "metadata": {
        "id": "koqP0nD3KAJ5",
        "colab_type": "text"
      },
      "source": [
        "###Multiclass Classification Func"
      ]
    },
    {
      "cell_type": "code",
      "metadata": {
        "id": "b7L2nu48KE6E",
        "colab_type": "code",
        "colab": {}
      },
      "source": [
        "model = LogisticRegression(solver='lbfgs')\n",
        "def log_reg_multiclass():\n",
        "  global model\n",
        "  model.fit(train_images,train_labels)\n",
        "  os.chdir(\"/content/gdrive/My Drive/Data Science\")\n",
        "  joblib.dump(model, 'Multiclass_LR.pkl')"
      ],
      "execution_count": 0,
      "outputs": []
    },
    {
      "cell_type": "markdown",
      "metadata": {
        "id": "l26bwGkLLez5",
        "colab_type": "text"
      },
      "source": [
        "###Hierarchical Classification Func"
      ]
    },
    {
      "cell_type": "code",
      "metadata": {
        "id": "a0itR6Y7XiBC",
        "colab_type": "code",
        "colab": {}
      },
      "source": [
        "log_reg=list()\n",
        "def log_reg_hierarchical():\n",
        "  os.chdir(\"/content/gdrive/My Drive/Data Science\")\n",
        "  global log_reg\n",
        "  for k in range(7):\n",
        "    log_reg.insert(k,LogisticRegression(solver='lbfgs')) \n",
        "    log_reg[k].fit(train_images,train_h[k])\n",
        "    \n",
        "    joblib.dump(log_reg[k], 'Hierarchical_LR_{}.pkl'.format(k)) \n"
      ],
      "execution_count": 0,
      "outputs": []
    },
    {
      "cell_type": "markdown",
      "metadata": {
        "id": "6K1SL_pMSN62",
        "colab_type": "text"
      },
      "source": [
        "###Tournament Classification Func"
      ]
    },
    {
      "cell_type": "code",
      "metadata": {
        "id": "myjzafvXR9If",
        "colab_type": "code",
        "colab": {}
      },
      "source": [
        "log = list()\n",
        "def log_reg_tournament():\n",
        "  global log\n",
        "  for k in range(10):\n",
        "    log.insert(k,LogisticRegression(solver = 'lbfgs')) \n",
        "    log[k].fit(train_images,train_t[k])\n",
        "    joblib.dump(log[k], 'Tournament_LR_{}.pkl'.format(k))\n"
      ],
      "execution_count": 0,
      "outputs": []
    },
    {
      "cell_type": "markdown",
      "metadata": {
        "id": "zrf8rFRb43jn",
        "colab_type": "text"
      },
      "source": [
        "##SVM"
      ]
    },
    {
      "cell_type": "markdown",
      "metadata": {
        "id": "Wzs2Sbxu5fuA",
        "colab_type": "text"
      },
      "source": [
        "###Multiclass Classification Func"
      ]
    },
    {
      "cell_type": "code",
      "metadata": {
        "id": "0KUX9_jU5oBc",
        "colab_type": "code",
        "colab": {}
      },
      "source": [
        "svm = SVC(gamma=0.001)\n",
        "def svm_model():\n",
        "  global svm\n",
        "  svm.fit(train_images,train_labels)\n",
        "  os.chdir(\"/content/gdrive/My Drive/Data Science\")\n",
        "  joblib.dump(svm, 'Multiclass_SVM.pkl')"
      ],
      "execution_count": 0,
      "outputs": []
    },
    {
      "cell_type": "markdown",
      "metadata": {
        "id": "NexM6gmSMwpt",
        "colab_type": "text"
      },
      "source": [
        "###Hierarchical Classification Func"
      ]
    },
    {
      "cell_type": "code",
      "metadata": {
        "id": "Ks7EQSWmM6Je",
        "colab_type": "code",
        "colab": {}
      },
      "source": [
        "svm_h = list()\n",
        "def svm_hierarchical():\n",
        "  os.chdir(\"/content/gdrive/My Drive/Data Science\")\n",
        "  global svm_h\n",
        "  for k in range(7):\n",
        "    svm_h.insert(k,SVC(gamma=0.001)) \n",
        "    svm_h[k].fit(train_images,train_h[k])\n",
        "    \n",
        "    joblib.dump(svm_h[k], 'Hierarchical_SVM_{}.pkl'.format(k)) \n"
      ],
      "execution_count": 0,
      "outputs": []
    },
    {
      "cell_type": "markdown",
      "metadata": {
        "id": "uIZqa55yN4hr",
        "colab_type": "text"
      },
      "source": [
        "###Tournament Classification"
      ]
    },
    {
      "cell_type": "code",
      "metadata": {
        "id": "e_q3-v8NN76q",
        "colab_type": "code",
        "colab": {}
      },
      "source": [
        "svm_t = list()\n",
        "def svm_tournament():\n",
        "  global svm_t\n",
        "  for k in range(10):\n",
        "    svm_t.insert(k,SVC(gamma=0.001)) \n",
        "    svm_t[k].fit(train_images,train_t[k])\n",
        "    joblib.dump(svm_t[k], 'Tournament_SVM_{}.pkl'.format(k))\n"
      ],
      "execution_count": 0,
      "outputs": []
    },
    {
      "cell_type": "markdown",
      "metadata": {
        "id": "pUKMeJeFTEeB",
        "colab_type": "text"
      },
      "source": [
        "##Decision Tree Classifier"
      ]
    },
    {
      "cell_type": "markdown",
      "metadata": {
        "id": "JSDuX9APHFj_",
        "colab_type": "text"
      },
      "source": [
        "###Multiclass Classification Func"
      ]
    },
    {
      "cell_type": "code",
      "metadata": {
        "id": "BeYfxe8YHVBY",
        "colab_type": "code",
        "colab": {}
      },
      "source": [
        "decision = tree.DecisionTreeClassifier()\n",
        "def tree_model():\n",
        "  global decision\n",
        "  decision.fit(train_images,train_labels)\n",
        "  os.chdir(\"/content/gdrive/My Drive/Data Science\")\n",
        "  joblib.dump(decision, 'Multiclass_DT.pkl')\n"
      ],
      "execution_count": 0,
      "outputs": []
    },
    {
      "cell_type": "markdown",
      "metadata": {
        "id": "whFSLbTHH6-l",
        "colab_type": "text"
      },
      "source": [
        "###Hierarchical Classification Func"
      ]
    },
    {
      "cell_type": "code",
      "metadata": {
        "id": "sQ4hD1AuH_hn",
        "colab_type": "code",
        "colab": {}
      },
      "source": [
        "dec_h = list()\n",
        "def dec_hierarchical():\n",
        "  os.chdir(\"/content/gdrive/My Drive/Data Science\")\n",
        "  global dec_h\n",
        "  for k in range(7):\n",
        "    dec_h.insert(k,tree.DecisionTreeClassifier()) \n",
        "    dec_h[k].fit(train_images,train_h[k])\n",
        "    \n",
        "    joblib.dump(dec_h[k], 'Hierarchical_DT_{}.pkl'.format(k)) \n"
      ],
      "execution_count": 0,
      "outputs": []
    },
    {
      "cell_type": "markdown",
      "metadata": {
        "id": "3Grs-KshIkzF",
        "colab_type": "text"
      },
      "source": [
        "###Tournament Classification Func"
      ]
    },
    {
      "cell_type": "code",
      "metadata": {
        "id": "fPDTw8qQIq1i",
        "colab_type": "code",
        "colab": {}
      },
      "source": [
        "dec_t = list()\n",
        "def dec_tournament():\n",
        "  global dec_t\n",
        "  for k in range(10):\n",
        "    dec_t.insert(k,tree.DecisionTreeClassifier()) \n",
        "    dec_t[k].fit(train_images,train_t[k])\n",
        "    joblib.dump(dec_t[k], 'Tournament_DT_{}.pkl'.format(k))\n"
      ],
      "execution_count": 0,
      "outputs": []
    },
    {
      "cell_type": "markdown",
      "metadata": {
        "id": "d66AGX7qTKVm",
        "colab_type": "text"
      },
      "source": [
        "##DNNs"
      ]
    },
    {
      "cell_type": "markdown",
      "metadata": {
        "id": "2KJJ4Zh6OEZd",
        "colab_type": "text"
      },
      "source": [
        "###Multiclass Classification Func"
      ]
    },
    {
      "cell_type": "code",
      "metadata": {
        "id": "GFydVkVzTKaw",
        "colab_type": "code",
        "outputId": "87d69eec-1ba4-49d2-a6f4-1739c0f4583f",
        "colab": {
          "base_uri": "https://localhost:8080/"
        }
      },
      "source": [
        "network=models.Sequential()\n",
        "train_images=train_images.reshape((60000,28*28)) #reshaping\n",
        "train_images=train_images.astype('float32')/255 #normalizing \n"
      ],
      "execution_count": 0,
      "outputs": [
        {
          "output_type": "stream",
          "text": [
            "WARNING: Logging before flag parsing goes to stderr.\n",
            "W0709 13:23:19.755386 139644263229312 deprecation_wrapper.py:119] From /usr/local/lib/python3.6/dist-packages/keras/backend/tensorflow_backend.py:74: The name tf.get_default_graph is deprecated. Please use tf.compat.v1.get_default_graph instead.\n",
            "\n"
          ],
          "name": "stderr"
        }
      ]
    },
    {
      "cell_type": "code",
      "metadata": {
        "id": "k4pEz98soIrq",
        "colab_type": "code",
        "colab": {}
      },
      "source": [
        "def dnn_multiclass():\n",
        " \n",
        "  network.add(layers.Dense(512,kernel_regularizer=regularizers.l2(0.00001),activation='relu',input_shape=(28*28,))) # tested on l2 reg parameter being 0.1,0.001,0.0001 and finally the best performance was on 0.00001 \n",
        "  network.add(layers.Dense(10,activation='softmax')) # softmax because they all add up to 1\n",
        "\n",
        "  network.compile(optimizer='Adam',loss='categorical_crossentropy',metrics=['accuracy'])\n",
        "\n",
        "  model=network.fit(train_images,to_categorical(train_labels),epochs=5,batch_size=512,verbose=0)\n",
        "  \n",
        "  model_json = network.to_json()\n",
        "  with open(\"network.json\", \"w\") as json_file:\n",
        "      json_file.write(model_json)\n",
        "    # serialize weights to HDF5\n",
        "  network.save_weights(\"network.h5\")#Saved model to disk\n",
        "  json_file = open('network.json', 'r')   # load json and create model\n",
        "  global loaded_model_json\n",
        "  loaded_model_json = json_file.read()\n",
        "  json_file.close()\n",
        "  \n"
      ],
      "execution_count": 0,
      "outputs": []
    },
    {
      "cell_type": "markdown",
      "metadata": {
        "id": "-Psr8zTCOJsP",
        "colab_type": "text"
      },
      "source": [
        "###Hierarchical Classification Func"
      ]
    },
    {
      "cell_type": "markdown",
      "metadata": {
        "id": "OeJfcrCuOOuU",
        "colab_type": "text"
      },
      "source": [
        "###Tournament Classification Func"
      ]
    },
    {
      "cell_type": "markdown",
      "metadata": {
        "id": "glWiZgeqX-Bg",
        "colab_type": "text"
      },
      "source": [
        "##Load the models"
      ]
    },
    {
      "cell_type": "code",
      "metadata": {
        "id": "F_PJmdeNd_uZ",
        "colab_type": "code",
        "colab": {}
      },
      "source": [
        "def load_multiclass_log():\n",
        "  return joblib.load('Multiclass_LR.pkl')\n",
        "def load_hierarchical_log(k):\n",
        "  return joblib.load('Hierarchical_LR_{}.pkl'.format(k))\n",
        "def load_tournament_log(k):\n",
        "  return joblib.load('Tournament_LR_{}.pkl'.format(k))    \n",
        "\n",
        "def load_multiclass_svm():\n",
        "  return joblib.load('Multiclass_SVM.pkl')\n",
        "def load_hierarchical_svm(k):\n",
        "  return joblib.load('Hierarchical_SVM_{}.pkl'.format(k))\n",
        "def load_tournament_svm(k):\n",
        "  return joblib.load('Tournament_SVM_{}.pkl'.format(k))    \n",
        "\n",
        "def load_multiclass_dec():\n",
        "  return joblib.load('Multiclass_DT.pkl')\n",
        "def load_hierarchical_dec(k):\n",
        "  return joblib.load('Hierarchical_DT_{}.pkl'.format(k))\n",
        "def load_tournament_dec(k):\n",
        "  return joblib.load('Tournament_DT_{}.pkl'.format(k))    \n",
        "\n",
        "def load_multiclass_dnn():\n",
        "  loaded_model = model_from_json(loaded_model_json)\n",
        "    # load weights into new model\n",
        "  return loaded_model.load_weights(\"network.h5\")#Loaded model from disk\")\n",
        "\n",
        "def load_hierarchical_dnn(k):\n",
        "  return joblib.load('Hierarchical_DNN_{}.pkl'.format(k))\n",
        "def load_tournament_dnn(k):\n",
        "  return joblib.load('Tournament_DNN_{}.pkl'.format(k))    \n"
      ],
      "execution_count": 0,
      "outputs": []
    },
    {
      "cell_type": "markdown",
      "metadata": {
        "id": "VcXZjxEQTNen",
        "colab_type": "text"
      },
      "source": [
        "#Distortions "
      ]
    },
    {
      "cell_type": "code",
      "metadata": {
        "id": "w1O58dKVmkW-",
        "colab_type": "code",
        "colab": {}
      },
      "source": [
        "percent=[1,5,20,40]\n",
        "import numpy as np\n",
        "import random\n",
        "row=list()\n",
        "col=list()\n",
        "pixels=0\n",
        "\n",
        "original_images=np.empty(10000*28*28)\n",
        "original_images=original_images.reshape(10000,28,28)\n",
        "\n",
        "dist_images=np.empty(10000*28*28)\n",
        "dist_images=dist_images.reshape(10000,28,28)\n",
        "\n",
        "for i in range(10000):\n",
        "  for j in range(28):\n",
        "    for k in range(28):\n",
        "      original_images[i][j][k]=test_images[i][j][k]\n",
        "\n",
        "def back_to_original():\n",
        "  global test_images\n",
        "  test_images=test_images.reshape(10000,28,28)\n",
        "  test_images=test_images.astype('int')\n",
        "  for i in range(10000):\n",
        "    for j in range(28):\n",
        "      for k in range(28):\n",
        "        test_images[i][j][k]=original_images[i][j][k]\n",
        "\n",
        "def get_no_pixels(i):\n",
        "  \n",
        "  if i in range(7):\n",
        "    global pixels\n",
        "    \n",
        "    pixels=int((percent[i]/100)*784)\n"
      ],
      "execution_count": 0,
      "outputs": []
    },
    {
      "cell_type": "markdown",
      "metadata": {
        "id": "3ZVOJivYGnSE",
        "colab_type": "text"
      },
      "source": [
        "##boxed distortions"
      ]
    },
    {
      "cell_type": "code",
      "metadata": {
        "id": "bJaQfPLMEQw9",
        "colab_type": "code",
        "colab": {}
      },
      "source": [
        "def distort_square(image_no,index):\n",
        "  global row\n",
        "  global col\n",
        "  global dist_images\n",
        "  global test_images\n",
        "  if index in range(4):\n",
        "    get_no_pixels(index)\n",
        "  #print(\"no of pixels:\",pixels)\n",
        "  for j in range(pixels):\n",
        "    row.insert(j,random.randint(5,23))\n",
        "    col.insert(j,random.randint(5,23))\n",
        "    dist_images[image_no][row[j]][col[j]]=random.randint(0,255)\n",
        "    test_images[image_no][row[j]][col[j]]=dist_images[image_no][row[j]][col[j]]\n",
        "  #plt.imshow(test_images[image_no],cmap=plt.cm.binary)   \n",
        "  #plt.title(\"after distortion of\",pixels)\n"
      ],
      "execution_count": 0,
      "outputs": []
    },
    {
      "cell_type": "markdown",
      "metadata": {
        "id": "kWgqrYUsTWaA",
        "colab_type": "text"
      },
      "source": [
        "##random distortions"
      ]
    },
    {
      "cell_type": "code",
      "metadata": {
        "id": "Hrd4sjGBTak7",
        "colab_type": "code",
        "colab": {}
      },
      "source": [
        "def distort_random(image_no,index):\n",
        "  global row\n",
        "  global col\n",
        "  global dist_images\n",
        "  global test_images\n",
        "  get_no_pixels(index)\n",
        "  #print(\"no of pixels:\",pixels)\n",
        "  for j in range(pixels):\n",
        "    row.insert(j,random.randint(0,27))\n",
        "    col.insert(j,random.randint(0,27))\n",
        "    dist_images[image_no][row[j]][col[j]]=random.randint(0,255)\n",
        "    test_images[image_no][row[j]][col[j]]=dist_images[image_no][row[j]][col[j]]\n",
        "   \n"
      ],
      "execution_count": 0,
      "outputs": []
    },
    {
      "cell_type": "markdown",
      "metadata": {
        "id": "og5tJoWSGYPu",
        "colab_type": "text"
      },
      "source": [
        "##how the distortions work?"
      ]
    },
    {
      "cell_type": "code",
      "metadata": {
        "id": "0PuuGmOd_XQS",
        "colab_type": "code",
        "outputId": "0e005952-35b8-466b-e4c9-5cfcdcca2d16",
        "colab": {
          "base_uri": "https://localhost:8080/",
          "height": 287
        }
      },
      "source": [
        "distort_square(1000,2)\n",
        "plt.imshow(test_images[1000],cmap=plt.cm.binary)\n"
      ],
      "execution_count": 0,
      "outputs": [
        {
          "output_type": "execute_result",
          "data": {
            "text/plain": [
              "<matplotlib.image.AxesImage at 0x7f25c6cf4668>"
            ]
          },
          "metadata": {
            "tags": []
          },
          "execution_count": 282
        },
        {
          "output_type": "display_data",
          "data": {
            "image/png": "[encoded data removed]",
            "text/plain": [
              "<Figure size 432x288 with 1 Axes>"
            ]
          },
          "metadata": {
            "tags": []
          }
        }
      ]
    },
    {
      "cell_type": "code",
      "metadata": {
        "id": "nfDKo1GWGEQA",
        "colab_type": "code",
        "outputId": "d797bfed-2598-4f2e-b8ff-f8a15cadefd2",
        "colab": {
          "base_uri": "https://localhost:8080/",
          "height": 287
        }
      },
      "source": [
        "back_to_original()\n",
        "plt.imshow(test_images[1000],cmap=plt.cm.binary)\n"
      ],
      "execution_count": 0,
      "outputs": [
        {
          "output_type": "execute_result",
          "data": {
            "text/plain": [
              "<matplotlib.image.AxesImage at 0x7f25c6c51e48>"
            ]
          },
          "metadata": {
            "tags": []
          },
          "execution_count": 283
        },
        {
          "output_type": "display_data",
          "data": {
            "image/png": "[encoded data removed]",
            "text/plain": [
              "<Figure size 432x288 with 1 Axes>"
            ]
          },
          "metadata": {
            "tags": []
          }
        }
      ]
    },
    {
      "cell_type": "code",
      "metadata": {
        "id": "3hnqW4mFGO0w",
        "colab_type": "code",
        "outputId": "70309965-fbf5-4e82-8331-10d790004ca7",
        "colab": {
          "base_uri": "https://localhost:8080/",
          "height": 287
        }
      },
      "source": [
        "distort_random(1000,2)\n",
        "plt.imshow(test_images[1000],cmap=plt.cm.binary)"
      ],
      "execution_count": 0,
      "outputs": [
        {
          "output_type": "execute_result",
          "data": {
            "text/plain": [
              "<matplotlib.image.AxesImage at 0x7f25c6baa518>"
            ]
          },
          "metadata": {
            "tags": []
          },
          "execution_count": 284
        },
        {
          "output_type": "display_data",
          "data": {
            "image/png": "[encoded data removed]",
            "text/plain": [
              "<Figure size 432x288 with 1 Axes>"
            ]
          },
          "metadata": {
            "tags": []
          }
        }
      ]
    },
    {
      "cell_type": "markdown",
      "metadata": {
        "id": "6CB9N1vQ6BY8",
        "colab_type": "text"
      },
      "source": [
        "#Predictions and accuracy"
      ]
    },
    {
      "cell_type": "markdown",
      "metadata": {
        "id": "j2qHfmW0VT45",
        "colab_type": "text"
      },
      "source": [
        "##Logistic Regression"
      ]
    },
    {
      "cell_type": "markdown",
      "metadata": {
        "id": "c4Ckebr_VmSe",
        "colab_type": "text"
      },
      "source": [
        "###Multiclass"
      ]
    },
    {
      "cell_type": "markdown",
      "metadata": {
        "id": "joQI5m1BVwq4",
        "colab_type": "text"
      },
      "source": [
        "####No distortions"
      ]
    },
    {
      "cell_type": "code",
      "metadata": {
        "id": "PLTpwtZB6AOe",
        "colab_type": "code",
        "colab": {}
      },
      "source": [
        "os.chdir(\"/content/gdrive/My Drive/Data Science\")\n",
        "model=load_multiclass_log()\n",
        "#preprocessing\n",
        "\n",
        "test_images=test_images.reshape(10000,784)\n",
        "test_images=scale.fit_transform(test_images)\n",
        "\n",
        "predictions = model.predict(test_images)\n",
        "score = accuracy_score(test_labels,predictions)\n",
        "print('\\naccuracy=',score*100)"
      ],
      "execution_count": 0,
      "outputs": []
    },
    {
      "cell_type": "markdown",
      "metadata": {
        "id": "UQnltSSCV0uj",
        "colab_type": "text"
      },
      "source": [
        "####boxed distortions"
      ]
    },
    {
      "cell_type": "code",
      "metadata": {
        "id": "BJ26y18SV4hQ",
        "colab_type": "code",
        "outputId": "aa1c12fc-4824-411b-80ac-4786a28d8357",
        "colab": {
          "base_uri": "https://localhost:8080/",
          "height": 290
        }
      },
      "source": [
        "os.chdir(\"/content/gdrive/My Drive/Data Science\")\n",
        "model=load_multiclass_log()\n",
        "\n",
        "prediction = np.empty(10000*4)\n",
        "prediction = prediction.reshape(4,10000)\n",
        "\n",
        "\n",
        "score = np.empty(4)\n",
        "score = score.reshape(4,1)\n",
        "\n",
        "for j in range(4):\n",
        "  test_images=test_images.reshape(10000,28,28)\n",
        "  \n",
        "\n",
        "  print(\"\\ndistortion = \",percent[j])\n",
        "  for i in range(10000):\n",
        "    sys.stdout.write(\"\\r %i\"%i)\n",
        "    sys.stdout.flush()\n",
        "    image_no = i\n",
        "    distort_square(image_no,j)\n",
        "  test_images=test_images.reshape(10000,784)\n",
        "  test_images=scale.fit_transform(test_images)  \n",
        "  prediction[j]=model.predict(test_images)\n",
        "  import numpy as np\n",
        "    #predict=to_categorical(predict)\n",
        "\n",
        "  score[j] = accuracy_score(test_labels,prediction[j])\n",
        "  print('\\naccuracy=',score[j] *100)\n",
        "  back_to_original()\n",
        "score_df = pd.DataFrame(data=score)  "
      ],
      "execution_count": 0,
      "outputs": [
        {
          "output_type": "stream",
          "text": [
            "\n",
            "distortion =  1\n",
            " 9999\n",
            "accuracy= [90.78]\n",
            "\n",
            "distortion =  5\n",
            " 9999\n",
            "accuracy= [85.89]\n",
            "\n",
            "distortion =  20\n",
            " 9999\n",
            "accuracy= [70.93]\n",
            "\n",
            "distortion =  40\n",
            " 1961"
          ],
          "name": "stdout"
        }
      ]
    },
    {
      "cell_type": "markdown",
      "metadata": {
        "id": "FiPWoPHlOgZo",
        "colab_type": "text"
      },
      "source": [
        "####Random Distortions"
      ]
    },
    {
      "cell_type": "code",
      "metadata": {
        "id": "4m7FEHzdWAja",
        "colab_type": "code",
        "colab": {}
      },
      "source": [
        "os.chdir(\"/content/gdrive/My Drive/Data Science\")\n",
        "model=load_multiclass_log()\n",
        "\n",
        "prediction = np.empty(10000*4)\n",
        "prediction = prediction.reshape(4,10000)\n",
        "\n",
        "\n",
        "score_dist = np.empty(4)\n",
        "score_dist = score.reshape(4,1)\n",
        "\n",
        "for j in range(4):\n",
        "  test_images=test_images.reshape(10000,28,28)\n",
        "  \n",
        "\n",
        "  print(\"\\ndistortion = \",percent[j])\n",
        "  for i in range(10000):\n",
        "    sys.stdout.write(\"\\r %i\"%i)\n",
        "    sys.stdout.flush()\n",
        "    image_no = i\n",
        "    distort_random(image_no,j)\n",
        "  test_images=test_images.reshape(10000,784)\n",
        "  test_images=scale.fit_transform(test_images)  \n",
        "  prediction[j]=model.predict(test_images)\n",
        "  import numpy as np\n",
        "    #predict=to_categorical(predict)\n",
        "\n",
        "  score_dist[j] = accuracy_score(test_labels,prediction[j])\n",
        "  print('\\naccuracy=',score[j] *100)\n",
        "  back_to_original()\n",
        "score_dist_df=pd.DataFrame(data=score_dist)  "
      ],
      "execution_count": 0,
      "outputs": []
    },
    {
      "cell_type": "code",
      "metadata": {
        "id": "8UW40BBCzYsV",
        "colab_type": "code",
        "colab": {}
      },
      "source": [
        "plt.plot()"
      ],
      "execution_count": 0,
      "outputs": []
    },
    {
      "cell_type": "markdown",
      "metadata": {
        "id": "gEXZNU_GOpz0",
        "colab_type": "text"
      },
      "source": [
        "###Hierarchical"
      ]
    },
    {
      "cell_type": "markdown",
      "metadata": {
        "id": "bWMiSQHTPOLT",
        "colab_type": "text"
      },
      "source": [
        "####no distortions"
      ]
    },
    {
      "cell_type": "code",
      "metadata": {
        "id": "9q_tO4lKOtif",
        "colab_type": "code",
        "colab": {}
      },
      "source": [
        "#preprocessing\n",
        "test_images=test_images.reshape(10000,784)\n",
        "test_images=scale.fit_transform(test_images)\n",
        "\n",
        "predictions_h=np.empty(10000*7)\n",
        "predictions_h=predictions_h.reshape(7,10000)\n",
        "\n",
        "score_h=np.empty(7)\n",
        "score_h=score_h.reshape(7,1)\n",
        "\n",
        "os.chdir(\"/content/gdrive/My Drive/Data Science\")\n",
        "for k in range(7):\n",
        "  log_reg.insert(k,load_hierarchical_log(k))\n",
        "  predictions_h[k] = log_reg[k].predict(test_images)\n",
        "  score_h[k] = accuracy_score(test_h[k],predictions_h[k])\n",
        "  print('\\naccuracy of',k+1,'th stage = ',score_h[k]*100)\n",
        "print(\"\\nmean =\",score_h.mean()*100)"
      ],
      "execution_count": 0,
      "outputs": []
    },
    {
      "cell_type": "markdown",
      "metadata": {
        "id": "YzwWf53PtlGt",
        "colab_type": "text"
      },
      "source": [
        "####boxed distortions"
      ]
    },
    {
      "cell_type": "code",
      "metadata": {
        "id": "9JikLja5tkWe",
        "colab_type": "code",
        "colab": {}
      },
      "source": [
        "os.chdir(\"/content/gdrive/My Drive/Data Science\")\n",
        "\n",
        "prediction_h = np.empty(10000*4*7)\n",
        "prediction_h = prediction_h.reshape(7,4,10000)\n",
        "\n",
        "score = np.empty(7*4)\n",
        "score = score.reshape(7,4,1)\n",
        "for k in range(7):\n",
        "  log_reg.insert(k,load_hierarchical_log(k))\n",
        "  for j in range(4):\n",
        "    print(\"\\ndistortion = \",percent[j])\n",
        "    for i in range(10000):\n",
        "      sys.stdout.write(\"\\r %i\"%i)\n",
        "      sys.stdout.flush()\n",
        "      image_no = i\n",
        "      distort_square(image_no,j)\n",
        "    test_images=test_images.reshape(10000,784)\n",
        "    test_images=scale.fit_transform(test_images) \n",
        "    prediction_h[k][j]=log_reg[k].predict(test_images)\n",
        "    import numpy as np\n",
        "      #predict=to_categorical(predict)\n",
        "    back_to_original()\n",
        "    score[k][j] = accuracy_score(test_h[k],prediction_h[k][j])\n",
        "    #print('\\naccuracy of',k,'th stage=',score[k][j] *100)\n",
        "    \n",
        "for j in range(4):\n",
        "  print(\"mean of all stages for a distortion of\",k,\"=\",score[:,j])"
      ],
      "execution_count": 0,
      "outputs": []
    },
    {
      "cell_type": "markdown",
      "metadata": {
        "id": "0j1fEK0bVriE",
        "colab_type": "text"
      },
      "source": [
        "####random"
      ]
    },
    {
      "cell_type": "code",
      "metadata": {
        "id": "0fPaRcc-VtFY",
        "colab_type": "code",
        "colab": {}
      },
      "source": [
        "os.chdir(\"/content/gdrive/My Drive/Data Science\")\n",
        "\n",
        "prediction_h = np.empty(10000*4*7)\n",
        "prediction_h = prediction_h.reshape(7,4,10000)\n",
        "\n",
        "score = np.empty(7*4)\n",
        "score = score.reshape(7,4,1)\n",
        "for k in range(7):\n",
        "  log_reg.insert(k,load_hierarchical_log(k))\n",
        "  for j in range(4):\n",
        "    print(\"\\ndistortion = \",percent[j])\n",
        "    for i in range(10000):\n",
        "      sys.stdout.write(\"\\r %i\"%i)\n",
        "      sys.stdout.flush()\n",
        "      image_no = i\n",
        "      distort_random(image_no,j)\n",
        "    test_images=test_images.reshape(10000,784)\n",
        "    test_images=scale.fit_transform(test_images) \n",
        "    prediction_h[k][j]=log_reg[k].predict(test_images)\n",
        "    import numpy as np\n",
        "      #predict=to_categorical(predict)\n",
        "    back_to_original()\n",
        "    score[k][j] = accuracy_score(test_h[k],prediction_h[k][j])\n",
        "    #print('\\naccuracy of',k,'th stage=',score[k][j] *100)\n",
        "    \n",
        "for j in range(4):\n",
        "  print(\"mean of all stages for a distortion of\",k,\"=\",score[:,j])"
      ],
      "execution_count": 0,
      "outputs": []
    },
    {
      "cell_type": "markdown",
      "metadata": {
        "id": "QhPuNtTZNZtg",
        "colab_type": "text"
      },
      "source": [
        "###Tournament "
      ]
    },
    {
      "cell_type": "markdown",
      "metadata": {
        "id": "2ACxuwCHNdU8",
        "colab_type": "text"
      },
      "source": [
        "####no distortions"
      ]
    },
    {
      "cell_type": "code",
      "metadata": {
        "id": "RnWJtT3hNf0B",
        "colab_type": "code",
        "colab": {}
      },
      "source": [
        "#preprocessing\n",
        "test_images=test_images.reshape(10000,784)\n",
        "test_images=scale.fit_transform(test_images)\n",
        "\n",
        "predictions_t=np.empty(10000*10)\n",
        "predictions_t=predictions_t.reshape(10,10000)\n",
        "\n",
        "score_t=np.empty(10)\n",
        "score_t=score_t.reshape(10,1)\n",
        "\n",
        "os.chdir(\"/content/gdrive/My Drive/Data Science\")\n",
        "maxi = 0\n",
        "for k in range(10):\n",
        "  log.insert(k,load_tournament_log(k))\n",
        "  predictions_t[k] = log[k].predict(test_images)\n",
        "  score_t[k] = accuracy_score(test_t[k],predictions_t[k])\n",
        "  print('\\naccuracy of',k,'=',score_t[k]*100)\n",
        "  maxi= max(maxi,score_t[k]*100)\n",
        "  \n",
        "print(\"\\naccuracy of maximum =\",maxi)\n"
      ],
      "execution_count": 0,
      "outputs": []
    },
    {
      "cell_type": "markdown",
      "metadata": {
        "id": "vGrIi2g2WJCc",
        "colab_type": "text"
      },
      "source": [
        "####random"
      ]
    },
    {
      "cell_type": "code",
      "metadata": {
        "id": "besJB2eDWKnW",
        "colab_type": "code",
        "colab": {}
      },
      "source": [
        "os.chdir(\"/content/gdrive/My Drive/Data Science\")\n",
        "\n",
        "prediction_t = np.empty(10000*4*10)\n",
        "prediction_t = prediction_t.reshape(10,4,10000)\n",
        "\n",
        "score = np.empty(10*4)\n",
        "score = score.reshape(10,4,1)\n",
        "for k in range(10):\n",
        "  log.insert(k,load_tournament_log(k))\n",
        "  for j in range(4):\n",
        "    print(\"\\ndistortion = \",percent[j])\n",
        "    for i in range(10000):\n",
        "      sys.stdout.write(\"\\r %i\"%i)\n",
        "      sys.stdout.flush()\n",
        "      image_no = i\n",
        "      distort_random(image_no,j)\n",
        "    test_images=test_images.reshape(10000,784)\n",
        "    test_images=scale.fit_transform(test_images) \n",
        "    prediction_t[k][j]=log[k].predict(test_images)\n",
        "    import numpy as np\n",
        "      #predict=to_categorical(predict)\n",
        "    back_to_original()\n",
        "    score[k][j] = accuracy_score(test_t[k],prediction_t[k][j])\n",
        "    #print('\\naccuracy of',k,'th stage=',score[k][j] *100)\n",
        "    \n",
        "for j in range(4):\n",
        "  print(\"mean of all stages for a distortion of\",k,\"=\",score[:,j])"
      ],
      "execution_count": 0,
      "outputs": []
    },
    {
      "cell_type": "markdown",
      "metadata": {
        "id": "_9ULdmzNWnNL",
        "colab_type": "text"
      },
      "source": [
        "####boxed"
      ]
    },
    {
      "cell_type": "code",
      "metadata": {
        "id": "ejTu2qAGWo0M",
        "colab_type": "code",
        "colab": {}
      },
      "source": [
        "os.chdir(\"/content/gdrive/My Drive/Data Science\")\n",
        "\n",
        "prediction_t = np.empty(10000*4*10)\n",
        "prediction_t = prediction_t.reshape(10,4,10000)\n",
        "\n",
        "score = np.empty(10*4)\n",
        "score = score.reshape(10,4,1)\n",
        "for k in range(10):\n",
        "  log.insert(k,load_tournament_log(k))\n",
        "  for j in range(4):\n",
        "    print(\"\\ndistortion = \",percent[j])\n",
        "    for i in range(10000):\n",
        "      sys.stdout.write(\"\\r %i\"%i)\n",
        "      sys.stdout.flush()\n",
        "      image_no = i\n",
        "      distort_square(image_no,j)\n",
        "    test_images=test_images.reshape(10000,784)\n",
        "    test_images=scale.fit_transform(test_images) \n",
        "    prediction_t[k][j]=log[k].predict(test_images)\n",
        "    import numpy as np\n",
        "      #predict=to_categorical(predict)\n",
        "    back_to_original()\n",
        "    score[k][j] = accuracy_score(test_t[k],prediction_t[k][j])\n",
        "    #print('\\naccuracy of',k,'th stage=',score[k][j] *100)\n",
        "    \n",
        "for j in range(4):\n",
        "  print(\"mean of all stages for a distortion of\",k,\"=\",score[:,j])"
      ],
      "execution_count": 0,
      "outputs": []
    },
    {
      "cell_type": "markdown",
      "metadata": {
        "id": "Q_zNXx3fTo-d",
        "colab_type": "text"
      },
      "source": [
        "##SVM"
      ]
    },
    {
      "cell_type": "markdown",
      "metadata": {
        "id": "tmYM_tQsU9MT",
        "colab_type": "text"
      },
      "source": [
        "###Multiclass"
      ]
    },
    {
      "cell_type": "markdown",
      "metadata": {
        "id": "LfDMeR9VVuID",
        "colab_type": "text"
      },
      "source": [
        "####no distortions"
      ]
    },
    {
      "cell_type": "code",
      "metadata": {
        "id": "Wz79Ux9nTsWP",
        "colab_type": "code",
        "colab": {}
      },
      "source": [
        "os.chdir(\"/content/gdrive/My Drive/Data Science\")\n",
        "svm=load_multiclass_svm()\n",
        "#preprocessing\n",
        "\n",
        "test_images=test_images.reshape(10000,784)\n",
        "test_images=scale.fit_transform(test_images)\n",
        "\n",
        "prediction_svm = svm.predict(test_images)\n",
        "score = accuracy_score(test_labels,prediction_svm)\n",
        "print('\\naccuracy=',score*100)\n"
      ],
      "execution_count": 0,
      "outputs": []
    },
    {
      "cell_type": "markdown",
      "metadata": {
        "id": "PJecxs7PVABo",
        "colab_type": "text"
      },
      "source": [
        "###Hierarchical"
      ]
    },
    {
      "cell_type": "markdown",
      "metadata": {
        "id": "qilc4LEbVmbd",
        "colab_type": "text"
      },
      "source": [
        "####no distortions"
      ]
    },
    {
      "cell_type": "code",
      "metadata": {
        "id": "b_Ls-FAmVDdM",
        "colab_type": "code",
        "colab": {}
      },
      "source": [
        "#preprocessing\n",
        "test_images=test_images.reshape(10000,784)\n",
        "test_images=scale.fit_transform(test_images)\n",
        "\n",
        "predictions_svmh=np.empty(10000*7)\n",
        "predictions_svmh=predictions_svmh.reshape(7,10000)\n",
        "\n",
        "score_svmh=np.empty(7)\n",
        "score_svmh=score_svmh.reshape(7,1)\n",
        "\n",
        "os.chdir(\"/content/gdrive/My Drive/Data Science\")\n",
        "for k in range(7):\n",
        "  svm_h.insert(k,load_hierarchical_svm(k))\n",
        "  predictions_svmh[k] = svm_h[k].predict(test_images)\n",
        "  score_svmh[k] = accuracy_score(test_h[k],predictions_svmh[k])\n",
        "  print('\\naccuracy of',k+1,'th stage = ',score_svmh[k]*100)\n",
        "print(\"mean =\",score_svmh.mean())  "
      ],
      "execution_count": 0,
      "outputs": []
    },
    {
      "cell_type": "markdown",
      "metadata": {
        "id": "Nt_LMrXsVzmL",
        "colab_type": "text"
      },
      "source": [
        "###Tournament"
      ]
    },
    {
      "cell_type": "markdown",
      "metadata": {
        "id": "Lj0wqewBKKT1",
        "colab_type": "text"
      },
      "source": [
        "####no distortions"
      ]
    },
    {
      "cell_type": "code",
      "metadata": {
        "id": "BBhdtaNtozhb",
        "colab_type": "code",
        "colab": {}
      },
      "source": [
        "#preprocessing\n",
        "test_images=test_images.reshape(10000,784)\n",
        "test_images=scale.fit_transform(test_images)\n",
        "\n",
        "predictions_svmt=np.empty(10000*10)\n",
        "predictions_svmt=predictions_svmt.reshape(10,10000)\n",
        "\n",
        "score_svmt=np.empty(10)\n",
        "score_svmt=score_svmt.reshape(10,1)\n",
        "\n",
        "os.chdir(\"/content/gdrive/My Drive/Data Science\")\n",
        "maxi = 0\n",
        "for k in range(10):\n",
        "  svm_t.insert(k,load_tournament_svm(k))\n",
        "  predictions_svmt[k] = svm_t[k].predict(test_images)\n",
        "  score_svmt[k] = accuracy_score(test_t[k],predictions_svmt[k])\n",
        "  print('\\naccuracy of',k,'=',score_svmt[k]*100)\n",
        "  \n",
        "  maxi= max(maxi,score_svmt[k]*100)\n",
        "print(\"\\naccuracy of maximum =\",maxi)\n"
      ],
      "execution_count": 0,
      "outputs": []
    },
    {
      "cell_type": "markdown",
      "metadata": {
        "id": "8nj-ty88V1-h",
        "colab_type": "text"
      },
      "source": [
        "##Decision Tree Classifier"
      ]
    },
    {
      "cell_type": "markdown",
      "metadata": {
        "id": "r1HHA4rhV50_",
        "colab_type": "text"
      },
      "source": [
        "###Multiclass"
      ]
    },
    {
      "cell_type": "markdown",
      "metadata": {
        "id": "Ar4jSC61W__T",
        "colab_type": "text"
      },
      "source": [
        "####no distortions"
      ]
    },
    {
      "cell_type": "code",
      "metadata": {
        "id": "lVlqdxFqV8KG",
        "colab_type": "code",
        "colab": {}
      },
      "source": [
        "os.chdir(\"/content/gdrive/My Drive/Data Science\")\n",
        "decision=load_multiclass_dec()\n",
        "#preprocessing\n",
        "\n",
        "test_images=test_images.reshape(10000,784)\n",
        "test_images=scale.fit_transform(test_images)\n",
        "\n",
        "prediction_d = decision.predict(test_images)\n",
        "score_d = accuracy_score(test_labels,prediction_d)\n",
        "print('\\naccuracy=',score_d*100)\n"
      ],
      "execution_count": 0,
      "outputs": []
    },
    {
      "cell_type": "markdown",
      "metadata": {
        "id": "rUS0WsTsXCbP",
        "colab_type": "text"
      },
      "source": [
        "####random"
      ]
    },
    {
      "cell_type": "code",
      "metadata": {
        "id": "yxvnPbhcXELm",
        "colab_type": "code",
        "colab": {}
      },
      "source": [
        "os.chdir(\"/content/gdrive/My Drive/Data Science\")\n",
        "model=load_multiclass_dec()\n",
        "\n",
        "prediction = np.empty(10000*4)\n",
        "prediction = prediction.reshape(4,10000)\n",
        "\n",
        "\n",
        "score = np.empty(4)\n",
        "score = score.reshape(4,1)\n",
        "\n",
        "for j in range(4):\n",
        "  test_images=test_images.reshape(10000,28,28)\n",
        "  \n",
        "\n",
        "  print(\"\\ndistortion = \",percent[j])\n",
        "  for i in range(10000):\n",
        "    sys.stdout.write(\"\\r %i\"%i)\n",
        "    sys.stdout.flush()\n",
        "    image_no = i\n",
        "    distort_random(image_no,j)\n",
        "  test_images=test_images.reshape(10000,784)\n",
        "  test_images=scale.fit_transform(test_images)  \n",
        "  prediction[j]=model.predict(test_images)\n",
        "  import numpy as np\n",
        "    #predict=to_categorical(predict)\n",
        "\n",
        "  score[j] = accuracy_score(test_labels,prediction[j])\n",
        "  print('\\naccuracy=',score[j] *100)\n",
        "  back_to_original()"
      ],
      "execution_count": 0,
      "outputs": []
    },
    {
      "cell_type": "markdown",
      "metadata": {
        "id": "JjrEsnLfXExB",
        "colab_type": "text"
      },
      "source": [
        "####boxed"
      ]
    },
    {
      "cell_type": "code",
      "metadata": {
        "id": "LLl6GykPXv_j",
        "colab_type": "code",
        "colab": {}
      },
      "source": [
        "os.chdir(\"/content/gdrive/My Drive/Data Science\")\n",
        "model=load_multiclass_dec()\n",
        "\n",
        "prediction = np.empty(10000*4)\n",
        "prediction = prediction.reshape(4,10000)\n",
        "\n",
        "\n",
        "score = np.empty(4)\n",
        "score = score.reshape(4,1)\n",
        "\n",
        "for j in range(4):\n",
        "  test_images=test_images.reshape(10000,28,28)\n",
        "  \n",
        "\n",
        "  print(\"\\ndistortion = \",percent[j])\n",
        "  for i in range(10000):\n",
        "    sys.stdout.write(\"\\r %i\"%i)\n",
        "    sys.stdout.flush()\n",
        "    image_no = i\n",
        "    distort_square(image_no,j)\n",
        "  test_images=test_images.reshape(10000,784)\n",
        "  test_images=scale.fit_transform(test_images)  \n",
        "  prediction[j]=model.predict(test_images)\n",
        "  import numpy as np\n",
        "    #predict=to_categorical(predict)\n",
        "\n",
        "  score[j] = accuracy_score(test_labels,prediction[j])\n",
        "  print('\\naccuracy=',score[j] *100)\n",
        "  back_to_original()"
      ],
      "execution_count": 0,
      "outputs": []
    },
    {
      "cell_type": "markdown",
      "metadata": {
        "id": "NlZy6tSUYAw6",
        "colab_type": "text"
      },
      "source": [
        "###Hierarchical"
      ]
    },
    {
      "cell_type": "code",
      "metadata": {
        "id": "nfReOtHUYDUD",
        "colab_type": "code",
        "colab": {}
      },
      "source": [
        "#preprocessing\n",
        "test_images=test_images.reshape(10000,784)\n",
        "test_images=scale.fit_transform(test_images)\n",
        "\n",
        "predictions_dth=np.empty(10000*7)\n",
        "predictions_dth=predictions_dth.reshape(7,10000)\n",
        "\n",
        "score_dth=np.empty(7)\n",
        "score_dth=score_dth.reshape(7,1)\n",
        "\n",
        "os.chdir(\"/content/gdrive/My Drive/Data Science\")\n",
        "for k in range(7):\n",
        "  dec_h.insert(k,load_hierarchical_dec(k))\n",
        "  predictions_dth[k] = dec_h[k].predict(test_images)\n",
        "  score_dth[k] = accuracy_score(test_h[k],predictions_dth[k])\n",
        "  print('\\naccuracy of',k+1,'th stage = ',score_dth[k]*100)\n",
        "print(\"\\nmean =\",score_dth.mean()*100)  "
      ],
      "execution_count": 0,
      "outputs": []
    },
    {
      "cell_type": "markdown",
      "metadata": {
        "id": "KB5gdhPQX3gh",
        "colab_type": "text"
      },
      "source": [
        "####random"
      ]
    },
    {
      "cell_type": "code",
      "metadata": {
        "id": "ka7FDtbcX61W",
        "colab_type": "code",
        "colab": {}
      },
      "source": [
        "os.chdir(\"/content/gdrive/My Drive/Data Science\")\n",
        "\n",
        "prediction_h = np.empty(10000*4*7)\n",
        "prediction_h = prediction_h.reshape(7,4,10000)\n",
        "\n",
        "score = np.empty(7*4)\n",
        "score = score.reshape(7,4,1)\n",
        "for k in range(7):\n",
        "  dec_h.insert(k,load_hierarchical_dec(k))\n",
        "  for j in range(4):\n",
        "    print(\"\\ndistortion = \",percent[j])\n",
        "    for i in range(10000):\n",
        "      sys.stdout.write(\"\\r %i\"%i)\n",
        "      sys.stdout.flush()\n",
        "      image_no = i\n",
        "      distort_random(image_no,j)\n",
        "    test_images=test_images.reshape(10000,784)\n",
        "    test_images=scale.fit_transform(test_images) \n",
        "    prediction_h[k][j]=dec_h[k].predict(test_images)\n",
        "    import numpy as np\n",
        "      #predict=to_categorical(predict)\n",
        "    back_to_original()\n",
        "    score[k][j] = accuracy_score(test_h[k],prediction_h[k][j])\n",
        "    #print('\\naccuracy of',k,'th stage=',score[k][j] *100)\n",
        "    \n",
        "for j in range(4):\n",
        "  print(\"mean of all stages for a distortion of\",k,\"=\",score[:,j])"
      ],
      "execution_count": 0,
      "outputs": []
    },
    {
      "cell_type": "markdown",
      "metadata": {
        "id": "-8SnERk-X5FM",
        "colab_type": "text"
      },
      "source": [
        "####boxed"
      ]
    },
    {
      "cell_type": "code",
      "metadata": {
        "id": "DwibF5uhYKuG",
        "colab_type": "code",
        "colab": {}
      },
      "source": [
        "os.chdir(\"/content/gdrive/My Drive/Data Science\")\n",
        "\n",
        "prediction_h = np.empty(10000*4*7)\n",
        "prediction_h = prediction_h.reshape(7,4,10000)\n",
        "\n",
        "score = np.empty(7*4)\n",
        "score = score.reshape(7,4,1)\n",
        "for k in range(7):\n",
        "  dec_h.insert(k,load_hierarchical_dec(k))\n",
        "  for j in range(4):\n",
        "    print(\"\\ndistortion = \",percent[j])\n",
        "    for i in range(10000):\n",
        "      sys.stdout.write(\"\\r %i\"%i)\n",
        "      sys.stdout.flush()\n",
        "      image_no = i\n",
        "      distort_square(image_no,j)\n",
        "    test_images=test_images.reshape(10000,784)\n",
        "    test_images=scale.fit_transform(test_images) \n",
        "    prediction_h[k][j]=dec_h[k].predict(test_images)\n",
        "    import numpy as np\n",
        "      #predict=to_categorical(predict)\n",
        "    back_to_original()\n",
        "    score[k][j] = accuracy_score(test_h[k],prediction_h[k][j])\n",
        "    #print('\\naccuracy of',k,'th stage=',score[k][j] *100)\n",
        "    \n",
        "for j in range(4):\n",
        "  print(\"mean of all stages for a distortion of\",k,\"=\",score[:,j])"
      ],
      "execution_count": 0,
      "outputs": []
    },
    {
      "cell_type": "markdown",
      "metadata": {
        "id": "27O2ys4OpZ3e",
        "colab_type": "text"
      },
      "source": [
        "##Tournament"
      ]
    },
    {
      "cell_type": "code",
      "metadata": {
        "id": "jSZbLXGIpgmN",
        "colab_type": "code",
        "colab": {}
      },
      "source": [
        "#preprocessing\n",
        "test_images=test_images.reshape(10000,784)\n",
        "test_images=scale.fit_transform(test_images)\n",
        "\n",
        "predictions_dt=np.empty(10000*10)\n",
        "predictions_dt=predictions_dt.reshape(10,10000)\n",
        "\n",
        "score_dt=np.empty(10)\n",
        "score_dt=score_dt.reshape(10,1)\n",
        "\n",
        "os.chdir(\"/content/gdrive/My Drive/Data Science\")\n",
        "maxi = 0\n",
        "for k in range(10):\n",
        "  dec_t.insert(k,load_tournament_dec(k))\n",
        "  predictions_dt[k] = dec_t[k].predict(test_images)\n",
        "  score_dt[k] = accuracy_score(test_t[k],predictions_dt[k])\n",
        "  print('\\naccuracy of',k,'=',score_dt[k]*100)\n",
        "  maxi= max(maxi,score_dt[k]*100)\n",
        "print(\"\\naccuracy of maximum =\",maxi)"
      ],
      "execution_count": 0,
      "outputs": []
    },
    {
      "cell_type": "markdown",
      "metadata": {
        "id": "bx0SBXvVYQCc",
        "colab_type": "text"
      },
      "source": [
        "####random"
      ]
    },
    {
      "cell_type": "code",
      "metadata": {
        "id": "7WiDhyexYS3h",
        "colab_type": "code",
        "colab": {}
      },
      "source": [
        "os.chdir(\"/content/gdrive/My Drive/Data Science\")\n",
        "\n",
        "prediction_t = np.empty(10000*4*10)\n",
        "prediction_t = prediction_t.reshape(10,4,10000)\n",
        "\n",
        "score = np.empty(10*4)\n",
        "score = score.reshape(10,4,1)\n",
        "for k in range(10):\n",
        "  dec_t.insert(k,load_tournament_dec(k))\n",
        "  for j in range(4):\n",
        "    print(\"\\ndistortion = \",percent[j])\n",
        "    for i in range(10000):\n",
        "      sys.stdout.write(\"\\r %i\"%i)\n",
        "      sys.stdout.flush()\n",
        "      image_no = i\n",
        "      distort_random(image_no,j)\n",
        "    test_images=test_images.reshape(10000,784)\n",
        "    test_images=scale.fit_transform(test_images) \n",
        "    prediction_t[k][j]=dec_t[k].predict(test_images)\n",
        "    import numpy as np\n",
        "      #predict=to_categorical(predict)\n",
        "    back_to_original()\n",
        "    score[k][j] = accuracy_score(test_t[k],prediction_t[k][j])\n",
        "    #print('\\naccuracy of',k,'th stage=',score[k][j] *100)\n"
      ],
      "execution_count": 0,
      "outputs": []
    },
    {
      "cell_type": "markdown",
      "metadata": {
        "id": "CEk9I4IZYTHZ",
        "colab_type": "text"
      },
      "source": [
        "####boxed"
      ]
    },
    {
      "cell_type": "code",
      "metadata": {
        "id": "d1ZiZk6QYUe8",
        "colab_type": "code",
        "colab": {}
      },
      "source": [
        "os.chdir(\"/content/gdrive/My Drive/Data Science\")\n",
        "\n",
        "prediction_t = np.empty(10000*4*10)\n",
        "prediction_t = prediction_t.reshape(10,4,10000)\n",
        "\n",
        "score = np.empty(10*4)\n",
        "score = score.reshape(10,4,1)\n",
        "for k in range(10):\n",
        "  dec_t.insert(k,load_tournament_dec(k))\n",
        "  for j in range(4):\n",
        "    print(\"\\ndistortion = \",percent[j])\n",
        "    for i in range(10000):\n",
        "      sys.stdout.write(\"\\r %i\"%i)\n",
        "      sys.stdout.flush()\n",
        "      image_no = i\n",
        "      distort_square(image_no,j)\n",
        "    test_images=test_images.reshape(10000,784)\n",
        "    test_images=scale.fit_transform(test_images) \n",
        "    prediction_t[k][j]=dec_t[k].predict(test_images)\n",
        "    import numpy as np\n",
        "      #predict=to_categorical(predict)\n",
        "    back_to_original()\n",
        "    score[k][j] = accuracy_score(test_t[k],prediction_t[k][j])\n",
        "    #print('\\naccuracy of',k,'th stage=',score[k][j] *100)\n",
        "    \n"
      ],
      "execution_count": 0,
      "outputs": []
    }
  ]
}