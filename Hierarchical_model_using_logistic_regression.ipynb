{
  "nbformat": 4,
  "nbformat_minor": 0,
  "metadata": {
    "colab": {
      "name": "MNIST data hierarchical classifier using logistic regression",
      "version": "0.3.2",
      "provenance": [],
      "collapsed_sections": [],
      "include_colab_link": true
    },
    "kernelspec": {
      "name": "python3",
      "display_name": "Python 3"
    }
  },
  "cells": [
    {
      "cell_type": "markdown",
      "metadata": {
        "id": "view-in-github",
        "colab_type": "text"
      },
      "source": [
        "<a href=\"https://colab.research.google.com/github/kavya2299/Data-Science/blob/master/MNIST_data_hierarchical_classifier_using_logistic_regression.ipynb\" target=\"_parent\"><img src=\"https://colab.research.google.com/assets/colab-badge.svg\" alt=\"Open In Colab\"/></a>"
      ]
    },
    {
      "cell_type": "code",
      "metadata": {
        "id": "JXxehEpNAdN_",
        "colab_type": "code",
        "outputId": "bdb02e24-ef10-4b4b-e091-e682dd27ffaf",
        "colab": {
          "base_uri": "https://localhost:8080/",
          "height": 35
        }
      },
      "source": [
        "#declaring libraries \n",
        "\n",
        "from sklearn.preprocessing import StandardScaler\n",
        "\n",
        "from sklearn.model_selection import train_test_split\n",
        "from sklearn.metrics import confusion_matrix\n",
        "from sklearn.pipeline import Pipeline\n",
        "import pandas as pd\n",
        "import numpy as np\n",
        "import matplotlib as plt\n",
        "\n",
        "# mount drive\n",
        "#don't forget to type as gdrive\n",
        "\n",
        "from google.colab import drive\n",
        "drive.mount('/content/gdrive')\n"
      ],
      "execution_count": 26,
      "outputs": [
        {
          "output_type": "stream",
          "text": [
            "Drive already mounted at /content/gdrive; to attempt to forcibly remount, call drive.mount(\"/content/gdrive\", force_remount=True).\n"
          ],
          "name": "stdout"
        }
      ]
    },
    {
      "cell_type": "code",
      "metadata": {
        "id": "qaKFJIvoJfh_",
        "colab_type": "code",
        "outputId": "473dde3b-145b-4172-ded3-2b66aad01caf",
        "colab": {
          "base_uri": "https://localhost:8080/",
          "height": 110
        }
      },
      "source": [
        "#use pandas to read the csv \n",
        "\n",
        "train_data=pd.read_csv(r'/content/gdrive/My Drive/Data Science/mnist_train.csv')\n",
        "test_data=pd.read_csv(r'/content/gdrive/My Drive/Data Science/mnist_test.csv')\n",
        "\n",
        "train_label=train_data.iloc[:,0] # choosing all the rows and only the first column\n",
        "train_data=train_data.iloc[:,1:] #choosing all the rows and leaving out the first column alone\n",
        "test_label=test_data.iloc[:,0]\n",
        "test_data=test_data.iloc[:,1:]\n",
        "\n",
        "scale=StandardScaler()\n",
        "train_scaled=scale.fit_transform(train_data)\n",
        "test_scaled=scale.fit_transform(test_data)\n",
        "\n",
        "print(type(train_label))\n",
        "#train_scaled.as_matrix(columns=None)\n",
        "#test_scaled.as_matrix(columns=None)\n",
        "test_label.as_matrix(columns=None)\n",
        "train_label.as_matrix(columns=None)"
      ],
      "execution_count": 27,
      "outputs": [
        {
          "output_type": "stream",
          "text": [
            "<class 'pandas.core.series.Series'>\n"
          ],
          "name": "stdout"
        },
        {
          "output_type": "stream",
          "text": [
            "/usr/local/lib/python3.6/dist-packages/ipykernel_launcher.py:17: FutureWarning: Method .as_matrix will be removed in a future version. Use .values instead.\n",
            "/usr/local/lib/python3.6/dist-packages/ipykernel_launcher.py:18: FutureWarning: Method .as_matrix will be removed in a future version. Use .values instead.\n"
          ],
          "name": "stderr"
        },
        {
          "output_type": "execute_result",
          "data": {
            "text/plain": [
              "array([5, 0, 4, ..., 5, 6, 8])"
            ]
          },
          "metadata": {
            "tags": []
          },
          "execution_count": 27
        }
      ]
    },
    {
      "cell_type": "markdown",
      "metadata": {
        "id": "MrqqvGQ2pDqR",
        "colab_type": "text"
      },
      "source": [
        "# Symmetry or not classifier(stage 1)"
      ]
    },
    {
      "cell_type": "code",
      "metadata": {
        "id": "JC3qfyVXn12k",
        "colab_type": "code",
        "outputId": "8e3e7a0d-73cc-44c9-ea3d-5cec12f7be2e",
        "colab": {
          "base_uri": "https://localhost:8080/",
          "height": 92
        }
      },
      "source": [
        "# symmetry- 0,1,3,8(about horizontal)\n",
        "# non symmetry- 2,4,5,6,7,9\n",
        "class_train_1=np.empty(60000)\n",
        "class_test_1=np.empty(10000)\n",
        "for i in range(60000):\n",
        "  \n",
        "  if(train_label[i]==0 or train_label[i]==1 or train_label[i]==3 or train_label[i]==8):\n",
        "    class_train_1[i]=0\n",
        "    #print(\"symmetrical\")\n",
        "  elif(train_label[i]==2 or train_label[i]==4 or train_label[i]==5 or train_label[i]==6 or train_label[i]==7 or train_label[i]==9):\n",
        "    class_train_1[i]=1\n",
        "    #print(\"non symmetrical\")\n",
        "  else:\n",
        "    class_train_1[i]=2\n",
        "    #print(\"none\")\n",
        "  #train_label[i]=class_label1[i] \n",
        "  \n",
        "for i in range(10000):\n",
        "  \n",
        "  if(test_label[i]==0 or test_label[i]==1 or test_label[i]==3 or test_label[i]==8):\n",
        "    class_test_1[i]=0\n",
        "    #print(\"symmetrical\")\n",
        "  elif(test_label[i]==2 or test_label[i]==4 or test_label[i]==5 or test_label[i]==6 or test_label[i]==7 or test_label[i]==9):\n",
        "    class_test_1[i]=1\n",
        "    #print(\"non symmetrical\")\n",
        "  else:\n",
        "    class_test_1[i]=2\n",
        "  #test_label[i]=class_label2[i]    \n",
        "    #print(\"none\")    \n",
        "#print(class_label1.shape)    \n",
        "\n",
        "from sklearn.linear_model import LogisticRegression\n",
        "log_reg = LogisticRegression(solver='lbfgs') # lbfgs is faster in convergence \n",
        "log_reg.fit(train_scaled, class_train_1)\n",
        "prediction=log_reg.predict(test_scaled)   \n",
        "#print(prediction)\n",
        "from sklearn.metrics import accuracy_score\n",
        "score =accuracy_score(prediction,class_test_1)\n",
        "print(\"symmetry=\",score*100)"
      ],
      "execution_count": 29,
      "outputs": [
        {
          "output_type": "stream",
          "text": [
            "symmetry= 89.19\n"
          ],
          "name": "stdout"
        },
        {
          "output_type": "stream",
          "text": [
            "/usr/local/lib/python3.6/dist-packages/sklearn/linear_model/logistic.py:947: ConvergenceWarning: lbfgs failed to converge. Increase the number of iterations.\n",
            "  \"of iterations.\", ConvergenceWarning)\n"
          ],
          "name": "stderr"
        }
      ]
    },
    {
      "cell_type": "markdown",
      "metadata": {
        "id": "lsjW8Bv0ijdE",
        "colab_type": "text"
      },
      "source": [
        "# Stage 2"
      ]
    },
    {
      "cell_type": "markdown",
      "metadata": {
        "id": "fZtYk_RTiJLa",
        "colab_type": "text"
      },
      "source": [
        "1 and 0,3,8(1's and not 1's)\n"
      ]
    },
    {
      "cell_type": "code",
      "metadata": {
        "id": "-cZvs4DfmMVh",
        "colab_type": "code",
        "colab": {
          "base_uri": "https://localhost:8080/",
          "height": 201
        },
        "outputId": "11fcd6b8-235b-427d-c4d9-5d311816fd9c"
      },
      "source": [
        "class_train_2=np.empty(60000)\n",
        "class_test_2=np.empty(10000)\n",
        "\n",
        "for i in range(60000):\n",
        "  if(class_train_1[i]==0):\n",
        "    if(train_label[i]==1):\n",
        "      class_train_2[i]=0\n",
        "      #print(\"1's\")\n",
        "    elif(train_label[i]==0 or train_label[i]==3 or train_label[i]==8):\n",
        "      class_train_2[i]=1\n",
        "      #print(\"not 1's\")\n",
        "    else:\n",
        "      class_train_2[i]=2\n",
        "      #print(\"none\")\n",
        "    #train_label[i]=class_label1[i] \n",
        "  else:\n",
        "    class_train_2[i]=2\n",
        "\n",
        "for i in range(10000):\n",
        "  if(class_test_1[i]==0):\n",
        "    if(test_label[i]==1):\n",
        "      class_test_2[i]=0\n",
        "      #print(\"1's\")\n",
        "    elif(test_label[i]==0 or test_label[i]==3 or test_label[i]==8):\n",
        "      class_test_2[i]=1\n",
        "      #print(\"not 1's\")\n",
        "    else:\n",
        "      class_test_2[i]=2\n",
        "      #print(\"none\")\n",
        "    #train_label[i]=class_label1[i]  \n",
        "  else:\n",
        "    class_test_2[i]=2\n",
        "  \n",
        "#print(class_test_2)\n",
        "from sklearn.linear_model import LogisticRegression\n",
        "log_reg = LogisticRegression(solver='lbfgs') # lbfgs is faster in convergence \n",
        "log_reg.fit(train_scaled, class_train_2)\n",
        "prediction=log_reg.predict(test_scaled)   \n",
        "#print(prediction)\n",
        "from sklearn.metrics import accuracy_score\n",
        "score =accuracy_score(prediction,class_test_2)\n",
        "print(\"1 or not=\",score*100)"
      ],
      "execution_count": 30,
      "outputs": [
        {
          "output_type": "stream",
          "text": [
            "/usr/local/lib/python3.6/dist-packages/sklearn/linear_model/logistic.py:469: FutureWarning: Default multi_class will be changed to 'auto' in 0.22. Specify the multi_class option to silence this warning.\n",
            "  \"this warning.\", FutureWarning)\n",
            "/usr/local/lib/python3.6/dist-packages/sklearn/linear_model/logistic.py:947: ConvergenceWarning: lbfgs failed to converge. Increase the number of iterations.\n",
            "  \"of iterations.\", ConvergenceWarning)\n",
            "/usr/local/lib/python3.6/dist-packages/sklearn/linear_model/logistic.py:947: ConvergenceWarning: lbfgs failed to converge. Increase the number of iterations.\n",
            "  \"of iterations.\", ConvergenceWarning)\n"
          ],
          "name": "stderr"
        },
        {
          "output_type": "stream",
          "text": [
            "1 or not= 89.44\n"
          ],
          "name": "stdout"
        },
        {
          "output_type": "stream",
          "text": [
            "/usr/local/lib/python3.6/dist-packages/sklearn/linear_model/logistic.py:947: ConvergenceWarning: lbfgs failed to converge. Increase the number of iterations.\n",
            "  \"of iterations.\", ConvergenceWarning)\n"
          ],
          "name": "stderr"
        }
      ]
    },
    {
      "cell_type": "markdown",
      "metadata": {
        "id": "armhApZ0s7-q",
        "colab_type": "text"
      },
      "source": [
        "2,5,6,9 and 4,7"
      ]
    },
    {
      "cell_type": "code",
      "metadata": {
        "id": "ELwOxzJms7Hk",
        "colab_type": "code",
        "colab": {
          "base_uri": "https://localhost:8080/",
          "height": 201
        },
        "outputId": "3a0b0497-2fff-40f1-d901-7410cc63b9da"
      },
      "source": [
        "class_train_5=np.empty(60000)\n",
        "class_test_5=np.empty(10000)\n",
        "for i in range(60000):\n",
        "  if(class_train_1[i]==1):\n",
        "    if(train_label[i]==4 or train_label[i]==7):\n",
        "      class_train_5[i]=0\n",
        "      #print(\"1's\")\n",
        "    elif(train_label[i]==2 or train_label[i]==5 or train_label[i]==6 or train_label[i]==9):\n",
        "      class_train_5[i]=1\n",
        "      #print(\"not 1's\")\n",
        "    else:\n",
        "      class_train_5[i]=2\n",
        "      #print(\"none\")\n",
        "    #train_label[i]=class_label1[i] \n",
        "  else:\n",
        "    class_train_5[i]=2\n",
        "\n",
        "for i in range(10000):\n",
        "  if(class_test_1[i]==1):\n",
        "    if(test_label[i]==4 or test_label[i]==7):\n",
        "      class_test_5[i]=0\n",
        "      #print(\"1's\")\n",
        "    elif(test_label[i]==2 or test_label[i]==5 or test_label[i]==6 or test_label[i]==9):\n",
        "      class_test_5[i]=1\n",
        "      #print(\"not 1's\")\n",
        "    else:\n",
        "      class_test_5[i]=2\n",
        "      #print(\"none\")\n",
        "    #train_label[i]=class_label1[i] \n",
        "  else:\n",
        "    class_test_5[i]=2\n",
        "  \n",
        "#print(class_test_2)\n",
        "from sklearn.linear_model import LogisticRegression\n",
        "log_reg = LogisticRegression(solver='lbfgs') # lbfgs is faster in convergence \n",
        "log_reg.fit(train_scaled, class_train_5)\n",
        "prediction=log_reg.predict(test_scaled)   \n",
        "#print(prediction)\n",
        "from sklearn.metrics import accuracy_score\n",
        "score =accuracy_score(prediction,class_test_5)\n",
        "print(\"straight or curved=\",score*100)"
      ],
      "execution_count": 34,
      "outputs": [
        {
          "output_type": "stream",
          "text": [
            "/usr/local/lib/python3.6/dist-packages/sklearn/linear_model/logistic.py:469: FutureWarning: Default multi_class will be changed to 'auto' in 0.22. Specify the multi_class option to silence this warning.\n",
            "  \"this warning.\", FutureWarning)\n",
            "/usr/local/lib/python3.6/dist-packages/sklearn/linear_model/logistic.py:947: ConvergenceWarning: lbfgs failed to converge. Increase the number of iterations.\n",
            "  \"of iterations.\", ConvergenceWarning)\n",
            "/usr/local/lib/python3.6/dist-packages/sklearn/linear_model/logistic.py:947: ConvergenceWarning: lbfgs failed to converge. Increase the number of iterations.\n",
            "  \"of iterations.\", ConvergenceWarning)\n"
          ],
          "name": "stderr"
        },
        {
          "output_type": "stream",
          "text": [
            "straight or curved= 85.35000000000001\n"
          ],
          "name": "stdout"
        },
        {
          "output_type": "stream",
          "text": [
            "/usr/local/lib/python3.6/dist-packages/sklearn/linear_model/logistic.py:947: ConvergenceWarning: lbfgs failed to converge. Increase the number of iterations.\n",
            "  \"of iterations.\", ConvergenceWarning)\n"
          ],
          "name": "stderr"
        }
      ]
    },
    {
      "cell_type": "markdown",
      "metadata": {
        "id": "AUQjeeQ7rfXG",
        "colab_type": "text"
      },
      "source": [
        "# Stage 3"
      ]
    },
    {
      "cell_type": "markdown",
      "metadata": {
        "id": "KT5mTSD--Dlc",
        "colab_type": "text"
      },
      "source": [
        "0 and 3,8"
      ]
    },
    {
      "cell_type": "code",
      "metadata": {
        "id": "qP6Uq1k-o_yY",
        "colab_type": "code",
        "colab": {
          "base_uri": "https://localhost:8080/",
          "height": 201
        },
        "outputId": "a61ad3e3-52d1-41ff-e20c-6343ae77492b"
      },
      "source": [
        "class_train_3=np.empty(60000)\n",
        "class_test_3=np.empty(10000)\n",
        "\n",
        "for i in range(60000):\n",
        "  if(class_train_2[i]==1):\n",
        "    if(train_label[i]==0):\n",
        "      class_train_3[i]=0\n",
        "      #print(\"1's\")\n",
        "    elif(train_label[i]==3 or train_label[i]==8):\n",
        "      class_train_3[i]=1\n",
        "      #print(\"not 1's\")\n",
        "    else:\n",
        "      class_train_3[i]=2\n",
        "      #print(\"none\")\n",
        "    #train_label[i]=class_label1[i] \n",
        "  else:\n",
        "    class_train_3[i]=2\n",
        "\n",
        "for i in range(10000):\n",
        "  if(class_test_2[i]==1):\n",
        "    if(test_label[i]==0):\n",
        "      class_test_3[i]=0\n",
        "      #print(\"1's\")\n",
        "    elif(test_label[i]==3 or test_label[i]==8):\n",
        "      class_test_3[i]=1\n",
        "      #print(\"not 1's\")\n",
        "    else:\n",
        "      class_test_3[i]=2\n",
        "      #print(\"none\")\n",
        "    #train_label[i]=class_label1[i]  \n",
        "  else:\n",
        "    class_test_3[i]=2\n",
        "  \n",
        "#print(class_test_2)\n",
        "from sklearn.linear_model import LogisticRegression\n",
        "log_reg = LogisticRegression(solver='lbfgs') # lbfgs is faster in convergence \n",
        "log_reg.fit(train_scaled, class_train_3)\n",
        "prediction=log_reg.predict(test_scaled)   \n",
        "#print(prediction)\n",
        "from sklearn.metrics import accuracy_score\n",
        "score =accuracy_score(prediction,class_test_3)\n",
        "print(\"0 and 3,8=\",score*100)"
      ],
      "execution_count": 35,
      "outputs": [
        {
          "output_type": "stream",
          "text": [
            "/usr/local/lib/python3.6/dist-packages/sklearn/linear_model/logistic.py:469: FutureWarning: Default multi_class will be changed to 'auto' in 0.22. Specify the multi_class option to silence this warning.\n",
            "  \"this warning.\", FutureWarning)\n",
            "/usr/local/lib/python3.6/dist-packages/sklearn/linear_model/logistic.py:947: ConvergenceWarning: lbfgs failed to converge. Increase the number of iterations.\n",
            "  \"of iterations.\", ConvergenceWarning)\n",
            "/usr/local/lib/python3.6/dist-packages/sklearn/linear_model/logistic.py:947: ConvergenceWarning: lbfgs failed to converge. Increase the number of iterations.\n",
            "  \"of iterations.\", ConvergenceWarning)\n"
          ],
          "name": "stderr"
        },
        {
          "output_type": "stream",
          "text": [
            "0 and 3,8= 90.91\n"
          ],
          "name": "stdout"
        },
        {
          "output_type": "stream",
          "text": [
            "/usr/local/lib/python3.6/dist-packages/sklearn/linear_model/logistic.py:947: ConvergenceWarning: lbfgs failed to converge. Increase the number of iterations.\n",
            "  \"of iterations.\", ConvergenceWarning)\n"
          ],
          "name": "stderr"
        }
      ]
    },
    {
      "cell_type": "markdown",
      "metadata": {
        "id": "h8cAZsn4-Gvj",
        "colab_type": "text"
      },
      "source": [
        "4 and 7"
      ]
    },
    {
      "cell_type": "code",
      "metadata": {
        "id": "zH2fcnaO9_Zs",
        "colab_type": "code",
        "colab": {
          "base_uri": "https://localhost:8080/",
          "height": 201
        },
        "outputId": "66f275d1-e971-4794-da48-c0feedaae252"
      },
      "source": [
        "class_train_6=np.empty(60000)\n",
        "class_test_6=np.empty(10000)\n",
        "\n",
        "for i in range(60000):\n",
        "  if(class_train_5[i]==0):\n",
        "    if(train_label[i]==4):\n",
        "      class_train_6[i]=0\n",
        "      #print(\"1's\")\n",
        "    elif(train_label[i]==7):\n",
        "      class_train_6[i]=1\n",
        "      #print(\"not 1's\")\n",
        "    else:\n",
        "      class_train_6[i]=2\n",
        "      #print(\"none\")\n",
        "    #train_label[i]=class_label1[i] \n",
        "  else:\n",
        "    class_train_6[i]=2\n",
        "\n",
        "for i in range(10000):\n",
        "  if(class_test_5[i]==0):\n",
        "    if(test_label[i]==4):\n",
        "      class_test_6[i]=0\n",
        "      #print(\"1's\")\n",
        "    elif(test_label[i]==7):\n",
        "      class_test_6[i]=1\n",
        "      #print(\"not 1's\")\n",
        "    else:\n",
        "      class_test_6[i]=2\n",
        "      #print(\"none\")\n",
        "    #train_label[i]=class_label1[i]  \n",
        "  else:\n",
        "    class_test_6[i]=2\n",
        "  \n",
        "#print(class_test_2)\n",
        "from sklearn.linear_model import LogisticRegression\n",
        "log_reg = LogisticRegression(solver='lbfgs') # lbfgs is faster in convergence \n",
        "log_reg.fit(train_scaled, class_train_6)\n",
        "prediction=log_reg.predict(test_scaled)   \n",
        "#print(prediction)\n",
        "from sklearn.metrics import accuracy_score\n",
        "score =accuracy_score(prediction,class_test_6)\n",
        "print(\"4 and 7=\",score*100)"
      ],
      "execution_count": 36,
      "outputs": [
        {
          "output_type": "stream",
          "text": [
            "/usr/local/lib/python3.6/dist-packages/sklearn/linear_model/logistic.py:469: FutureWarning: Default multi_class will be changed to 'auto' in 0.22. Specify the multi_class option to silence this warning.\n",
            "  \"this warning.\", FutureWarning)\n",
            "/usr/local/lib/python3.6/dist-packages/sklearn/linear_model/logistic.py:947: ConvergenceWarning: lbfgs failed to converge. Increase the number of iterations.\n",
            "  \"of iterations.\", ConvergenceWarning)\n",
            "/usr/local/lib/python3.6/dist-packages/sklearn/linear_model/logistic.py:947: ConvergenceWarning: lbfgs failed to converge. Increase the number of iterations.\n",
            "  \"of iterations.\", ConvergenceWarning)\n"
          ],
          "name": "stderr"
        },
        {
          "output_type": "stream",
          "text": [
            "4 and 7= 96.59\n"
          ],
          "name": "stdout"
        },
        {
          "output_type": "stream",
          "text": [
            "/usr/local/lib/python3.6/dist-packages/sklearn/linear_model/logistic.py:947: ConvergenceWarning: lbfgs failed to converge. Increase the number of iterations.\n",
            "  \"of iterations.\", ConvergenceWarning)\n"
          ],
          "name": "stderr"
        }
      ]
    },
    {
      "cell_type": "markdown",
      "metadata": {
        "id": "CscUFRx3_mLe",
        "colab_type": "text"
      },
      "source": [
        "2's and not 2's(5,6,9)"
      ]
    },
    {
      "cell_type": "code",
      "metadata": {
        "id": "sZVZX0zy_d64",
        "colab_type": "code",
        "colab": {
          "base_uri": "https://localhost:8080/",
          "height": 201
        },
        "outputId": "74601c77-f151-4011-f3c3-edf462092e30"
      },
      "source": [
        "class_train_7=np.empty(60000)\n",
        "class_test_7=np.empty(10000)\n",
        "\n",
        "for i in range(60000):\n",
        "  if(class_train_5[i]==1):\n",
        "    if(train_label[i]==2):\n",
        "      class_train_7[i]=0\n",
        "      #print(\"1's\")\n",
        "    elif(train_label[i]==5 or train_label[i]==6 or train_label[i]==9):\n",
        "      class_train_7[i]=1\n",
        "      #print(\"not 1's\")\n",
        "    else:\n",
        "      class_train_7[i]=2\n",
        "      #print(\"none\")\n",
        "    #train_label[i]=class_label1[i] \n",
        "  else:\n",
        "    class_train_7[i]=2\n",
        "\n",
        "for i in range(10000):\n",
        "  if(class_test_5[i]==1):\n",
        "    if(test_label[i]==2):\n",
        "      class_test_7[i]=0\n",
        "      #print(\"1's\")\n",
        "    elif(test_label[i]==5 or test_label[i]==6 or test_label[i]==9):\n",
        "      class_test_7[i]=1\n",
        "      #print(\"not 1's\")\n",
        "    else:\n",
        "      class_test_7[i]=2\n",
        "      #print(\"none\")\n",
        "    #train_label[i]=class_label1[i] \n",
        "  else:\n",
        "    class_test_7[i]=2\n",
        "  \n",
        "#print(class_test_2)\n",
        "from sklearn.linear_model import LogisticRegression\n",
        "log_reg = LogisticRegression(solver='lbfgs') # lbfgs is faster in convergence \n",
        "log_reg.fit(train_scaled, class_train_7)\n",
        "prediction=log_reg.predict(test_scaled)   \n",
        "#print(prediction)\n",
        "from sklearn.metrics import accuracy_score\n",
        "score =accuracy_score(prediction,class_test_7)\n",
        "print(\"2 and 5,6,9=\",score*100)"
      ],
      "execution_count": 39,
      "outputs": [
        {
          "output_type": "stream",
          "text": [
            "/usr/local/lib/python3.6/dist-packages/sklearn/linear_model/logistic.py:469: FutureWarning: Default multi_class will be changed to 'auto' in 0.22. Specify the multi_class option to silence this warning.\n",
            "  \"this warning.\", FutureWarning)\n",
            "/usr/local/lib/python3.6/dist-packages/sklearn/linear_model/logistic.py:947: ConvergenceWarning: lbfgs failed to converge. Increase the number of iterations.\n",
            "  \"of iterations.\", ConvergenceWarning)\n",
            "/usr/local/lib/python3.6/dist-packages/sklearn/linear_model/logistic.py:947: ConvergenceWarning: lbfgs failed to converge. Increase the number of iterations.\n",
            "  \"of iterations.\", ConvergenceWarning)\n"
          ],
          "name": "stderr"
        },
        {
          "output_type": "stream",
          "text": [
            "2 and 5,6,9= 86.38\n"
          ],
          "name": "stdout"
        },
        {
          "output_type": "stream",
          "text": [
            "/usr/local/lib/python3.6/dist-packages/sklearn/linear_model/logistic.py:947: ConvergenceWarning: lbfgs failed to converge. Increase the number of iterations.\n",
            "  \"of iterations.\", ConvergenceWarning)\n"
          ],
          "name": "stderr"
        }
      ]
    },
    {
      "cell_type": "markdown",
      "metadata": {
        "id": "aJUCY6JSrkCL",
        "colab_type": "text"
      },
      "source": [
        "# Stage 4"
      ]
    },
    {
      "cell_type": "markdown",
      "metadata": {
        "id": "pFPg5wVC_P7s",
        "colab_type": "text"
      },
      "source": [
        "3 and 8"
      ]
    },
    {
      "cell_type": "code",
      "metadata": {
        "id": "7A4NiFqJpqZ8",
        "colab_type": "code",
        "colab": {
          "base_uri": "https://localhost:8080/",
          "height": 201
        },
        "outputId": "238bc3be-a059-4b8c-d3ad-3381457e3019"
      },
      "source": [
        "class_train_4=np.empty(60000)\n",
        "class_test_4=np.empty(10000)\n",
        "\n",
        "for i in range(60000):\n",
        "  if(class_train_3[i]==1):\n",
        "    if(train_label[i]==3):\n",
        "      class_train_4[i]=0\n",
        "      #print(\"1's\")\n",
        "    elif(train_label[i]==8):\n",
        "      class_train_4[i]=1\n",
        "      #print(\"not 1's\")\n",
        "    else:\n",
        "      class_train_4[i]=2\n",
        "      #print(\"none\")\n",
        "    #train_label[i]=class_label1[i] \n",
        "  else:\n",
        "    class_train_4[i]=2\n",
        "\n",
        "for i in range(10000):\n",
        "  if(class_test_3[i]==1):\n",
        "    if(test_label[i]==3):\n",
        "      class_test_4[i]=0\n",
        "      #print(\"1's\")\n",
        "    elif(test_label[i]==8):\n",
        "      class_test_4[i]=1\n",
        "      #print(\"not 1's\")\n",
        "    else:\n",
        "      class_test_4[i]=2\n",
        "      #print(\"none\")\n",
        "    #train_label[i]=class_label1[i]  \n",
        "  else:\n",
        "    class_test_4[i]=2\n",
        "  \n",
        "#print(class_test_2)\n",
        "from sklearn.linear_model import LogisticRegression\n",
        "log_reg = LogisticRegression(solver='lbfgs') # lbfgs is faster in convergence \n",
        "log_reg.fit(train_scaled, class_train_4)\n",
        "prediction=log_reg.predict(test_scaled)   \n",
        "#print(prediction)\n",
        "from sklearn.metrics import accuracy_score\n",
        "score =accuracy_score(prediction,class_test_4)\n",
        "print(\"3 and 8=\",score*100)"
      ],
      "execution_count": 37,
      "outputs": [
        {
          "output_type": "stream",
          "text": [
            "/usr/local/lib/python3.6/dist-packages/sklearn/linear_model/logistic.py:469: FutureWarning: Default multi_class will be changed to 'auto' in 0.22. Specify the multi_class option to silence this warning.\n",
            "  \"this warning.\", FutureWarning)\n",
            "/usr/local/lib/python3.6/dist-packages/sklearn/linear_model/logistic.py:947: ConvergenceWarning: lbfgs failed to converge. Increase the number of iterations.\n",
            "  \"of iterations.\", ConvergenceWarning)\n",
            "/usr/local/lib/python3.6/dist-packages/sklearn/linear_model/logistic.py:947: ConvergenceWarning: lbfgs failed to converge. Increase the number of iterations.\n",
            "  \"of iterations.\", ConvergenceWarning)\n"
          ],
          "name": "stderr"
        },
        {
          "output_type": "stream",
          "text": [
            "3 and 8= 93.5\n"
          ],
          "name": "stdout"
        },
        {
          "output_type": "stream",
          "text": [
            "/usr/local/lib/python3.6/dist-packages/sklearn/linear_model/logistic.py:947: ConvergenceWarning: lbfgs failed to converge. Increase the number of iterations.\n",
            "  \"of iterations.\", ConvergenceWarning)\n"
          ],
          "name": "stderr"
        }
      ]
    },
    {
      "cell_type": "markdown",
      "metadata": {
        "id": "pAzN7D5gAlWl",
        "colab_type": "text"
      },
      "source": [
        "5 and 6 and 9"
      ]
    },
    {
      "cell_type": "code",
      "metadata": {
        "id": "OnBelTcjAoWD",
        "colab_type": "code",
        "colab": {
          "base_uri": "https://localhost:8080/",
          "height": 237
        },
        "outputId": "e9a01f30-5903-4ae5-d9aa-7cf06d462a9e"
      },
      "source": [
        "class_train_8=np.empty(60000)\n",
        "class_test_8=np.empty(10000)\n",
        "\n",
        "for i in range(60000):\n",
        "  if(class_train_7[i]==1):\n",
        "    if(train_label[i]==5):\n",
        "      class_train_8[i]=0\n",
        "      #print(\"1's\")\n",
        "    elif(train_label[i]==6):\n",
        "      class_train_8[i]=1\n",
        "      #print(\"not 1's\")\n",
        "    elif(train_label[i]==9):\n",
        "      class_train_8[i]=2  \n",
        "    else:\n",
        "      class_train_8[i]=3\n",
        "      #print(\"none\")\n",
        "    #train_label[i]=class_label1[i] \n",
        "  else:\n",
        "    class_train_8[i]=3\n",
        "\n",
        "for i in range(10000):\n",
        "  if(class_test_7[i]==1):\n",
        "    if(test_label[i]==5):\n",
        "      class_test_8[i]=0\n",
        "      #print(\"1's\")\n",
        "    elif(test_label[i]==6):\n",
        "      class_test_8[i]=1\n",
        "      #print(\"not 1's\")\n",
        "    elif(test_label[i]==9):\n",
        "      class_test_8[i]=2  \n",
        "    else:\n",
        "      class_test_8[i]=3\n",
        "      #print(\"none\")\n",
        "    #train_label[i]=class_label1[i] \n",
        "  else:\n",
        "    class_test_8[i]=3\n",
        "  \n",
        "#print(class_test_2)\n",
        "from sklearn.linear_model import LogisticRegression\n",
        "log_reg = LogisticRegression(solver='lbfgs') # lbfgs is faster in convergence \n",
        "log_reg.fit(train_scaled, class_train_8)\n",
        "prediction=log_reg.predict(test_scaled)   \n",
        "#print(prediction)\n",
        "from sklearn.metrics import accuracy_score\n",
        "score =accuracy_score(prediction,class_test_8)\n",
        "print(\"5 and 6 and 9=\",score*100)"
      ],
      "execution_count": 42,
      "outputs": [
        {
          "output_type": "stream",
          "text": [
            "/usr/local/lib/python3.6/dist-packages/sklearn/linear_model/logistic.py:469: FutureWarning: Default multi_class will be changed to 'auto' in 0.22. Specify the multi_class option to silence this warning.\n",
            "  \"this warning.\", FutureWarning)\n",
            "/usr/local/lib/python3.6/dist-packages/sklearn/linear_model/logistic.py:947: ConvergenceWarning: lbfgs failed to converge. Increase the number of iterations.\n",
            "  \"of iterations.\", ConvergenceWarning)\n",
            "/usr/local/lib/python3.6/dist-packages/sklearn/linear_model/logistic.py:947: ConvergenceWarning: lbfgs failed to converge. Increase the number of iterations.\n",
            "  \"of iterations.\", ConvergenceWarning)\n",
            "/usr/local/lib/python3.6/dist-packages/sklearn/linear_model/logistic.py:947: ConvergenceWarning: lbfgs failed to converge. Increase the number of iterations.\n",
            "  \"of iterations.\", ConvergenceWarning)\n"
          ],
          "name": "stderr"
        },
        {
          "output_type": "stream",
          "text": [
            "5 and 6 and 9= 92.52\n"
          ],
          "name": "stdout"
        },
        {
          "output_type": "stream",
          "text": [
            "/usr/local/lib/python3.6/dist-packages/sklearn/linear_model/logistic.py:947: ConvergenceWarning: lbfgs failed to converge. Increase the number of iterations.\n",
            "  \"of iterations.\", ConvergenceWarning)\n"
          ],
          "name": "stderr"
        }
      ]
    }
  ]
}
